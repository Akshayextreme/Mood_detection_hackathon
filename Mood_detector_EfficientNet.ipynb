{
  "nbformat": 4,
  "nbformat_minor": 0,
  "metadata": {
    "colab": {
      "name": "Mood_detector_EfficientNet.ipynb",
      "provenance": [],
      "collapsed_sections": [
        "Onlha9-fDQqo",
        "fatpuWiEDL-L",
        "I61EeP0pC2hq",
        "LgWwbyIACkp5"
      ],
      "authorship_tag": "ABX9TyMYPp/zeqYzrXR15K/YeXqX",
      "include_colab_link": true
    },
    "kernelspec": {
      "name": "python3",
      "display_name": "Python 3"
    },
    "accelerator": "GPU"
  },
  "cells": [
    {
      "cell_type": "markdown",
      "metadata": {
        "id": "view-in-github",
        "colab_type": "text"
      },
      "source": [
        "<a href=\"https://colab.research.google.com/github/Akshayextreme/Mood_detection_hackathon/blob/master/Mood_detector_EfficientNet.ipynb\" target=\"_parent\"><img src=\"https://colab.research.google.com/assets/colab-badge.svg\" alt=\"Open In Colab\"/></a>"
      ]
    },
    {
      "cell_type": "markdown",
      "metadata": {
        "id": "Onlha9-fDQqo",
        "colab_type": "text"
      },
      "source": [
        "# Importing Libraries"
      ]
    },
    {
      "cell_type": "code",
      "metadata": {
        "id": "wBQ7Ngi0MO-J",
        "colab_type": "code",
        "colab": {
          "base_uri": "https://localhost:8080/",
          "height": 33
        },
        "outputId": "b2dcb16d-3e9b-4a2d-f92c-918f54ba0e24"
      },
      "source": [
        "from google.colab import drive\n",
        "drive.mount('/content/drive')"
      ],
      "execution_count": null,
      "outputs": [
        {
          "output_type": "stream",
          "text": [
            "Drive already mounted at /content/drive; to attempt to forcibly remount, call drive.mount(\"/content/drive\", force_remount=True).\n"
          ],
          "name": "stdout"
        }
      ]
    },
    {
      "cell_type": "code",
      "metadata": {
        "id": "p9o_o919NqLg",
        "colab_type": "code",
        "colab": {
          "base_uri": "https://localhost:8080/",
          "height": 33
        },
        "outputId": "b1131d78-de02-4a96-9bfd-ad33426c8c38"
      },
      "source": [
        "%cd /content/drive/My\\ Drive/Colab\\ Notebooks/aithon2020-level-2"
      ],
      "execution_count": null,
      "outputs": [
        {
          "output_type": "stream",
          "text": [
            "/content/drive/My Drive/Colab Notebooks/aithon2020-level-2\n"
          ],
          "name": "stdout"
        }
      ]
    },
    {
      "cell_type": "code",
      "metadata": {
        "id": "LFChadYUAlyF",
        "colab_type": "code",
        "colab": {}
      },
      "source": [
        "import numpy as np\n",
        "import pandas as pd\n",
        "from keras.utils import np_utils\n",
        "from sklearn.preprocessing import LabelEncoder\n",
        "from sklearn.model_selection import train_test_split\n",
        "from PIL import Image\n",
        "from tensorflow.keras.applications.efficientnet import preprocess_input\n",
        "from keras.preprocessing.image import ImageDataGenerator\n",
        "from tensorflow.keras.applications import EfficientNetB0\n",
        "from keras.models import Sequential\n",
        "from keras.layers import Dense, Dropout, Conv2D, MaxPool2D, Flatten\n",
        "from tensorflow.keras import layers\n",
        "import tensorflow as tf"
      ],
      "execution_count": null,
      "outputs": []
    },
    {
      "cell_type": "markdown",
      "metadata": {
        "id": "fatpuWiEDL-L",
        "colab_type": "text"
      },
      "source": [
        "# Data Preprocessing"
      ]
    },
    {
      "cell_type": "code",
      "metadata": {
        "id": "_IqBsFDxAnD9",
        "colab_type": "code",
        "colab": {}
      },
      "source": [
        "df = pd.read_csv('./data/aithon2020_level2_traning.csv')"
      ],
      "execution_count": null,
      "outputs": []
    },
    {
      "cell_type": "code",
      "metadata": {
        "id": "DfyPtNymSml2",
        "colab_type": "code",
        "colab": {}
      },
      "source": [
        "X = df.iloc[:,1:].values\n",
        "y = df.emotion.values"
      ],
      "execution_count": null,
      "outputs": []
    },
    {
      "cell_type": "code",
      "metadata": {
        "id": "-PkNcFSSSsJU",
        "colab_type": "code",
        "colab": {}
      },
      "source": [
        "# encode class values as integers\n",
        "encoder = LabelEncoder()\n",
        "encoder.fit(y)\n",
        "encoded_y = encoder.transform(y)"
      ],
      "execution_count": null,
      "outputs": []
    },
    {
      "cell_type": "code",
      "metadata": {
        "id": "cZFIX-6zTFJU",
        "colab_type": "code",
        "colab": {}
      },
      "source": [
        "X_train, X_test, y_train, y_test = train_test_split(X, encoded_y, test_size=0.2, random_state=43, shuffle=True)"
      ],
      "execution_count": null,
      "outputs": []
    },
    {
      "cell_type": "code",
      "metadata": {
        "id": "zYzsReuETIGk",
        "colab_type": "code",
        "colab": {}
      },
      "source": [
        "def VGG16_prep(train_data):\n",
        "    rgb_list = []\n",
        "    #Resizing image data from 48x48 to 224x224\n",
        "    for i in range(train_data.shape[0]):\n",
        "        image = Image.fromarray(np.uint8(train_data[i].reshape(48, 48))).convert('RGB')\n",
        "        image = image.resize((224, 224), Image.BILINEAR)\n",
        "        rgb_list.append(np.asarray(image))\n",
        "\n",
        "    rgb_arr = np.stack([rgb_list],axis=4)\n",
        "    rgb_arr_to_3d = np.squeeze(rgb_arr, axis=4)\n",
        "    # rgb_arr_to_3d = np.expand_dims(rgb_arr_to_3d.astype('float32'), axis=0)\n",
        "    return preprocess_input(rgb_arr_to_3d.astype('float32'))"
      ],
      "execution_count": null,
      "outputs": []
    },
    {
      "cell_type": "code",
      "metadata": {
        "id": "WyG8-rbETNQ4",
        "colab_type": "code",
        "colab": {}
      },
      "source": [
        "X_train = VGG16_prep(X_train)\n",
        "X_test = VGG16_prep(X_test)"
      ],
      "execution_count": null,
      "outputs": []
    },
    {
      "cell_type": "code",
      "metadata": {
        "id": "QfMcoGEZZVcZ",
        "colab_type": "code",
        "colab": {
          "base_uri": "https://localhost:8080/",
          "height": 33
        },
        "outputId": "8e0a6791-0329-4173-f9e8-9cb693ae1b2a"
      },
      "source": [
        "X_train.shape"
      ],
      "execution_count": null,
      "outputs": [
        {
          "output_type": "execute_result",
          "data": {
            "text/plain": [
              "(8653, 224, 224, 3)"
            ]
          },
          "metadata": {
            "tags": []
          },
          "execution_count": 10
        }
      ]
    },
    {
      "cell_type": "code",
      "metadata": {
        "id": "KLEDirZCT0bk",
        "colab_type": "code",
        "colab": {
          "base_uri": "https://localhost:8080/",
          "height": 50
        },
        "outputId": "0833e19a-59e3-49a9-cb4b-8f014262969d"
      },
      "source": [
        "# one-hot encoding using keras' numpy-related utilities\n",
        "n_classes = 3\n",
        "print(\"Shape before one-hot encoding: \", y_train.shape)\n",
        "y_train = np_utils.to_categorical(y_train, n_classes)\n",
        "y_test = np_utils.to_categorical(y_test, n_classes)\n",
        "print(\"Shape after one-hot encoding: \", y_train.shape)"
      ],
      "execution_count": null,
      "outputs": [
        {
          "output_type": "stream",
          "text": [
            "Shape before one-hot encoding:  (8653,)\n",
            "Shape after one-hot encoding:  (8653, 3)\n"
          ],
          "name": "stdout"
        }
      ]
    },
    {
      "cell_type": "code",
      "metadata": {
        "id": "edfuT2zvVEbM",
        "colab_type": "code",
        "colab": {}
      },
      "source": [
        "# prepare data augmentation configuration\n",
        "train_datagen = ImageDataGenerator(\n",
        "        #rescale=1./255,\n",
        "        shear_range=0.2,\n",
        "        zoom_range=0.2,\n",
        "        horizontal_flip=True)\n",
        "\n",
        "test_datagen = ImageDataGenerator()#rescale=1./255)"
      ],
      "execution_count": null,
      "outputs": []
    },
    {
      "cell_type": "code",
      "metadata": {
        "id": "k2UoRynLVTIK",
        "colab_type": "code",
        "colab": {}
      },
      "source": [
        "batch_size = 64 # @param {type: \"slider\", min:1, max:128}\n",
        "train_generator = train_datagen.flow(X_train, y_train, batch_size=batch_size)\n",
        "test_generator = test_datagen.flow(X_test, y_test, batch_size=batch_size)"
      ],
      "execution_count": null,
      "outputs": []
    },
    {
      "cell_type": "markdown",
      "metadata": {
        "id": "I61EeP0pC2hq",
        "colab_type": "text"
      },
      "source": [
        "# EfficientNet as Feature Extractor"
      ]
    },
    {
      "cell_type": "code",
      "metadata": {
        "id": "PIGhAZnORCFB",
        "colab_type": "code",
        "colab": {}
      },
      "source": [
        "IMG_SIZE = 224\n",
        "NUM_CLASSES = 3\n",
        "def build_model(num_classes):\n",
        "    inputs = layers.Input(shape=(IMG_SIZE, IMG_SIZE, 3))\n",
        "    # x = img_augmentation(inputs)\n",
        "    model = EfficientNetB0(include_top=False, input_tensor=inputs, weights=\"imagenet\")\n",
        "\n",
        "    # Freeze the pretrained weights\n",
        "    model.trainable = False\n",
        "\n",
        "    # Rebuild top\n",
        "    x = layers.GlobalAveragePooling2D(name=\"avg_pool\")(model.output)\n",
        "    x = layers.BatchNormalization()(x)\n",
        "\n",
        "    top_dropout_rate = 0.2\n",
        "    x = layers.Dropout(top_dropout_rate, name=\"top_dropout\")(x)\n",
        "    x = layers.Dense(4096, activation=\"relu\", name=\"dense1\")(x)\n",
        "    x = layers.Dense(1028, activation=\"relu\", name=\"dense2\")(x)\n",
        "    x = layers.Dropout(0.3, name=\"dense_dropout\")(x)\n",
        "    outputs = layers.Dense(NUM_CLASSES, activation=\"softmax\", name=\"pred\")(x)\n",
        "\n",
        "    # Compile\n",
        "    model = tf.keras.Model(inputs, outputs, name=\"EfficientNet\")\n",
        "    optimizer = tf.keras.optimizers.Adam(learning_rate=1e-2)\n",
        "    model.compile(\n",
        "        optimizer=optimizer, loss=\"categorical_crossentropy\", metrics=[\"accuracy\"]\n",
        "    )\n",
        "    return model"
      ],
      "execution_count": null,
      "outputs": []
    },
    {
      "cell_type": "code",
      "metadata": {
        "id": "41XUl0dSgr4E",
        "colab_type": "code",
        "colab": {}
      },
      "source": [
        "model = build_model(num_classes=NUM_CLASSES)\n",
        "\n",
        "checkpoint_filepath = './checkpoint/extract_feature_Effnet.h5'\n",
        "model_checkpoint_callback = tf.keras.callbacks.ModelCheckpoint(\n",
        "    filepath=checkpoint_filepath,\n",
        "    save_weights_only=True,\n",
        "    monitor='val_accuracy',\n",
        "    mode='max',\n",
        "    save_best_only=True)"
      ],
      "execution_count": null,
      "outputs": []
    },
    {
      "cell_type": "code",
      "metadata": {
        "id": "dK6BZBJtlIt8",
        "colab_type": "code",
        "colab": {}
      },
      "source": [
        "import matplotlib.pyplot as plt\n",
        "\n",
        "\n",
        "def plot_hist(hist):\n",
        "    plt.plot(hist.history[\"accuracy\"])\n",
        "    plt.plot(hist.history[\"val_accuracy\"])\n",
        "    plt.title(\"model accuracy\")\n",
        "    plt.ylabel(\"accuracy\")\n",
        "    plt.xlabel(\"epoch\")\n",
        "    plt.legend([\"train\", \"validation\"], loc=\"upper left\")\n",
        "    plt.show()"
      ],
      "execution_count": null,
      "outputs": []
    },
    {
      "cell_type": "code",
      "metadata": {
        "id": "GN4jRn67ShGc",
        "colab_type": "code",
        "colab": {}
      },
      "source": [
        "epochs = 25  # @param {type: \"slider\", min:8, max:80}\n",
        "hist = model.fit(train_generator,\n",
        "                 epochs=epochs, \n",
        "                 validation_data=test_generator, \n",
        "                 callbacks=[model_checkpoint_callback],\n",
        "                 verbose=2)\n",
        "plot_hist(hist)"
      ],
      "execution_count": null,
      "outputs": []
    },
    {
      "cell_type": "markdown",
      "metadata": {
        "id": "LgWwbyIACkp5",
        "colab_type": "text"
      },
      "source": [
        "# Fine-Tuning EfficientNet"
      ]
    },
    {
      "cell_type": "code",
      "metadata": {
        "id": "9NRXMZP7n-ft",
        "colab_type": "code",
        "colab": {}
      },
      "source": [
        "def unfreeze_model(model):\n",
        "    # We unfreeze the top 20 layers while leaving BatchNorm layers frozen\n",
        "    for layer in model.layers[-20:]:\n",
        "        if not isinstance(layer, layers.BatchNormalization):\n",
        "            layer.trainable = True\n",
        "\n",
        "    optimizer = tf.keras.optimizers.Adam(learning_rate=1e-4)\n",
        "    model.compile(\n",
        "        optimizer=optimizer, loss=\"categorical_crossentropy\", metrics=[\"accuracy\"]\n",
        "    )\n",
        "\n",
        "\n",
        "unfreeze_model(model)"
      ],
      "execution_count": null,
      "outputs": []
    },
    {
      "cell_type": "code",
      "metadata": {
        "id": "bByGWZ-MoYYQ",
        "colab_type": "code",
        "colab": {}
      },
      "source": [
        "!rm -rf ./logs/train/*\n",
        "!rm -rf ./logs/validation/*\n",
        "checkpoint_filepath = './checkpoint/Effnet_finetune.h5'\n",
        "callbacks = [\n",
        "             tf.keras.callbacks.ModelCheckpoint(\n",
        "    filepath=checkpoint_filepath,\n",
        "    save_weights_only=True,\n",
        "    monitor='val_accuracy',\n",
        "    mode='max',\n",
        "    save_best_only=True),\n",
        "    tf.keras.callbacks.TensorBoard(log_dir='./logs')]"
      ],
      "execution_count": null,
      "outputs": []
    },
    {
      "cell_type": "code",
      "metadata": {
        "id": "3XZcJCyAGNt-",
        "colab_type": "code",
        "colab": {}
      },
      "source": [
        "%load_ext tensorboard\n",
        "%tensorboard --logdir logs"
      ],
      "execution_count": null,
      "outputs": []
    },
    {
      "cell_type": "code",
      "metadata": {
        "id": "UbM72pqvoBUd",
        "colab_type": "code",
        "colab": {}
      },
      "source": [
        "epochs = 30  # @param {type: \"slider\", min:8, max:80}\n",
        "hist = model.fit(train_generator,\n",
        "                 epochs=epochs, \n",
        "                 validation_data=test_generator, \n",
        "                 callbacks=callbacks,\n",
        "                 verbose=2)\n",
        "plot_hist(hist)"
      ],
      "execution_count": null,
      "outputs": []
    }
  ]
}