{
  "nbformat": 4,
  "nbformat_minor": 0,
  "metadata": {
    "colab": {
      "name": "Mood_detector_VGG16.ipynb",
      "provenance": [],
      "collapsed_sections": [],
      "include_colab_link": true
    },
    "kernelspec": {
      "name": "python3",
      "display_name": "Python 3"
    },
    "accelerator": "GPU"
  },
  "cells": [
    {
      "cell_type": "markdown",
      "metadata": {
        "id": "view-in-github",
        "colab_type": "text"
      },
      "source": [
        "<a href=\"https://colab.research.google.com/github/Akshayextreme/Mood_detection_hackathon/blob/master/Mood_detector_VGG16.ipynb\" target=\"_parent\"><img src=\"https://colab.research.google.com/assets/colab-badge.svg\" alt=\"Open In Colab\"/></a>"
      ]
    },
    {
      "cell_type": "markdown",
      "metadata": {
        "id": "mGW0Jw9Ug4cE",
        "colab_type": "text"
      },
      "source": [
        "[![Open In Colab](https://colab.research.google.com/assets/colab-badge.svg)](https://github.com/Akshayextreme/Mood_detection_hackathon/blob/master/Mood_detector_VGG16.ipynb)"
      ]
    },
    {
      "cell_type": "markdown",
      "metadata": {
        "id": "vduuVtC7DWLx",
        "colab_type": "text"
      },
      "source": [
        "# Imports"
      ]
    },
    {
      "cell_type": "code",
      "metadata": {
        "id": "-dDpX8_y89Nv",
        "colab_type": "code",
        "colab": {
          "base_uri": "https://localhost:8080/",
          "height": 33
        },
        "outputId": "9f75e361-47fe-43fb-844d-fa43b7cf174b"
      },
      "source": [
        "from google.colab import drive\n",
        "drive.mount('/content/drive')"
      ],
      "execution_count": 5,
      "outputs": [
        {
          "output_type": "stream",
          "text": [
            "Mounted at /content/drive\n"
          ],
          "name": "stdout"
        }
      ]
    },
    {
      "cell_type": "code",
      "metadata": {
        "id": "qxw2KZxjACXL",
        "colab_type": "code",
        "colab": {
          "base_uri": "https://localhost:8080/",
          "height": 33
        },
        "outputId": "1b0dba55-72c4-49d9-ab76-6658eeb46d6f"
      },
      "source": [
        "%cd /content/drive/My\\ Drive/Colab\\ Notebooks/aithon2020-level-2"
      ],
      "execution_count": 6,
      "outputs": [
        {
          "output_type": "stream",
          "text": [
            "/content/drive/My Drive/Colab Notebooks/aithon2020-level-2\n"
          ],
          "name": "stdout"
        }
      ]
    },
    {
      "cell_type": "markdown",
      "metadata": {
        "id": "5rnlyccyDbkN",
        "colab_type": "text"
      },
      "source": [
        "# EDA"
      ]
    },
    {
      "cell_type": "code",
      "metadata": {
        "id": "LFChadYUAlyF",
        "colab_type": "code",
        "colab": {}
      },
      "source": [
        "import numpy as np\n",
        "import pandas as pd"
      ],
      "execution_count": 3,
      "outputs": []
    },
    {
      "cell_type": "code",
      "metadata": {
        "id": "_IqBsFDxAnD9",
        "colab_type": "code",
        "colab": {}
      },
      "source": [
        "df = pd.read_csv('./data/aithon2020_level2_traning.csv')"
      ],
      "execution_count": 4,
      "outputs": []
    },
    {
      "cell_type": "code",
      "metadata": {
        "id": "ZDhDDULFA35t",
        "colab_type": "code",
        "colab": {
          "base_uri": "https://localhost:8080/",
          "height": 240
        },
        "outputId": "08b8a361-db68-4fee-8eed-201242c90fbc"
      },
      "source": [
        "df.head()"
      ],
      "execution_count": null,
      "outputs": [
        {
          "output_type": "execute_result",
          "data": {
            "text/html": [
              "<div>\n",
              "<style scoped>\n",
              "    .dataframe tbody tr th:only-of-type {\n",
              "        vertical-align: middle;\n",
              "    }\n",
              "\n",
              "    .dataframe tbody tr th {\n",
              "        vertical-align: top;\n",
              "    }\n",
              "\n",
              "    .dataframe thead th {\n",
              "        text-align: right;\n",
              "    }\n",
              "</style>\n",
              "<table border=\"1\" class=\"dataframe\">\n",
              "  <thead>\n",
              "    <tr style=\"text-align: right;\">\n",
              "      <th></th>\n",
              "      <th>emotion</th>\n",
              "      <th>pixel_0</th>\n",
              "      <th>pixel_1</th>\n",
              "      <th>pixel_2</th>\n",
              "      <th>pixel_3</th>\n",
              "      <th>pixel_4</th>\n",
              "      <th>pixel_5</th>\n",
              "      <th>pixel_6</th>\n",
              "      <th>pixel_7</th>\n",
              "      <th>pixel_8</th>\n",
              "      <th>pixel_9</th>\n",
              "      <th>pixel_10</th>\n",
              "      <th>pixel_11</th>\n",
              "      <th>pixel_12</th>\n",
              "      <th>pixel_13</th>\n",
              "      <th>pixel_14</th>\n",
              "      <th>pixel_15</th>\n",
              "      <th>pixel_16</th>\n",
              "      <th>pixel_17</th>\n",
              "      <th>pixel_18</th>\n",
              "      <th>pixel_19</th>\n",
              "      <th>pixel_20</th>\n",
              "      <th>pixel_21</th>\n",
              "      <th>pixel_22</th>\n",
              "      <th>pixel_23</th>\n",
              "      <th>pixel_24</th>\n",
              "      <th>pixel_25</th>\n",
              "      <th>pixel_26</th>\n",
              "      <th>pixel_27</th>\n",
              "      <th>pixel_28</th>\n",
              "      <th>pixel_29</th>\n",
              "      <th>pixel_30</th>\n",
              "      <th>pixel_31</th>\n",
              "      <th>pixel_32</th>\n",
              "      <th>pixel_33</th>\n",
              "      <th>pixel_34</th>\n",
              "      <th>pixel_35</th>\n",
              "      <th>pixel_36</th>\n",
              "      <th>pixel_37</th>\n",
              "      <th>pixel_38</th>\n",
              "      <th>...</th>\n",
              "      <th>pixel_2264</th>\n",
              "      <th>pixel_2265</th>\n",
              "      <th>pixel_2266</th>\n",
              "      <th>pixel_2267</th>\n",
              "      <th>pixel_2268</th>\n",
              "      <th>pixel_2269</th>\n",
              "      <th>pixel_2270</th>\n",
              "      <th>pixel_2271</th>\n",
              "      <th>pixel_2272</th>\n",
              "      <th>pixel_2273</th>\n",
              "      <th>pixel_2274</th>\n",
              "      <th>pixel_2275</th>\n",
              "      <th>pixel_2276</th>\n",
              "      <th>pixel_2277</th>\n",
              "      <th>pixel_2278</th>\n",
              "      <th>pixel_2279</th>\n",
              "      <th>pixel_2280</th>\n",
              "      <th>pixel_2281</th>\n",
              "      <th>pixel_2282</th>\n",
              "      <th>pixel_2283</th>\n",
              "      <th>pixel_2284</th>\n",
              "      <th>pixel_2285</th>\n",
              "      <th>pixel_2286</th>\n",
              "      <th>pixel_2287</th>\n",
              "      <th>pixel_2288</th>\n",
              "      <th>pixel_2289</th>\n",
              "      <th>pixel_2290</th>\n",
              "      <th>pixel_2291</th>\n",
              "      <th>pixel_2292</th>\n",
              "      <th>pixel_2293</th>\n",
              "      <th>pixel_2294</th>\n",
              "      <th>pixel_2295</th>\n",
              "      <th>pixel_2296</th>\n",
              "      <th>pixel_2297</th>\n",
              "      <th>pixel_2298</th>\n",
              "      <th>pixel_2299</th>\n",
              "      <th>pixel_2300</th>\n",
              "      <th>pixel_2301</th>\n",
              "      <th>pixel_2302</th>\n",
              "      <th>pixel_2303</th>\n",
              "    </tr>\n",
              "  </thead>\n",
              "  <tbody>\n",
              "    <tr>\n",
              "      <th>0</th>\n",
              "      <td>Fear</td>\n",
              "      <td>231</td>\n",
              "      <td>212</td>\n",
              "      <td>156</td>\n",
              "      <td>164</td>\n",
              "      <td>174</td>\n",
              "      <td>138</td>\n",
              "      <td>161</td>\n",
              "      <td>173</td>\n",
              "      <td>182</td>\n",
              "      <td>200</td>\n",
              "      <td>106</td>\n",
              "      <td>38</td>\n",
              "      <td>39</td>\n",
              "      <td>74</td>\n",
              "      <td>138</td>\n",
              "      <td>161</td>\n",
              "      <td>164</td>\n",
              "      <td>179</td>\n",
              "      <td>190</td>\n",
              "      <td>201</td>\n",
              "      <td>210</td>\n",
              "      <td>216</td>\n",
              "      <td>220</td>\n",
              "      <td>224</td>\n",
              "      <td>222</td>\n",
              "      <td>218</td>\n",
              "      <td>216</td>\n",
              "      <td>213</td>\n",
              "      <td>217</td>\n",
              "      <td>220</td>\n",
              "      <td>220</td>\n",
              "      <td>218</td>\n",
              "      <td>217</td>\n",
              "      <td>212</td>\n",
              "      <td>174</td>\n",
              "      <td>160</td>\n",
              "      <td>162</td>\n",
              "      <td>160</td>\n",
              "      <td>139</td>\n",
              "      <td>...</td>\n",
              "      <td>225</td>\n",
              "      <td>220</td>\n",
              "      <td>215</td>\n",
              "      <td>207</td>\n",
              "      <td>199</td>\n",
              "      <td>167</td>\n",
              "      <td>108</td>\n",
              "      <td>151</td>\n",
              "      <td>122</td>\n",
              "      <td>88</td>\n",
              "      <td>71</td>\n",
              "      <td>84</td>\n",
              "      <td>120</td>\n",
              "      <td>127</td>\n",
              "      <td>105</td>\n",
              "      <td>76</td>\n",
              "      <td>71</td>\n",
              "      <td>78</td>\n",
              "      <td>90</td>\n",
              "      <td>106</td>\n",
              "      <td>123</td>\n",
              "      <td>146</td>\n",
              "      <td>155</td>\n",
              "      <td>148</td>\n",
              "      <td>130</td>\n",
              "      <td>141</td>\n",
              "      <td>119</td>\n",
              "      <td>69</td>\n",
              "      <td>54</td>\n",
              "      <td>89</td>\n",
              "      <td>104</td>\n",
              "      <td>138</td>\n",
              "      <td>152</td>\n",
              "      <td>122</td>\n",
              "      <td>114</td>\n",
              "      <td>101</td>\n",
              "      <td>97</td>\n",
              "      <td>88</td>\n",
              "      <td>110</td>\n",
              "      <td>152</td>\n",
              "    </tr>\n",
              "    <tr>\n",
              "      <th>1</th>\n",
              "      <td>Fear</td>\n",
              "      <td>55</td>\n",
              "      <td>55</td>\n",
              "      <td>55</td>\n",
              "      <td>55</td>\n",
              "      <td>55</td>\n",
              "      <td>54</td>\n",
              "      <td>60</td>\n",
              "      <td>68</td>\n",
              "      <td>54</td>\n",
              "      <td>85</td>\n",
              "      <td>151</td>\n",
              "      <td>163</td>\n",
              "      <td>170</td>\n",
              "      <td>179</td>\n",
              "      <td>181</td>\n",
              "      <td>185</td>\n",
              "      <td>188</td>\n",
              "      <td>188</td>\n",
              "      <td>191</td>\n",
              "      <td>196</td>\n",
              "      <td>189</td>\n",
              "      <td>194</td>\n",
              "      <td>198</td>\n",
              "      <td>197</td>\n",
              "      <td>195</td>\n",
              "      <td>194</td>\n",
              "      <td>190</td>\n",
              "      <td>193</td>\n",
              "      <td>195</td>\n",
              "      <td>184</td>\n",
              "      <td>175</td>\n",
              "      <td>172</td>\n",
              "      <td>161</td>\n",
              "      <td>159</td>\n",
              "      <td>158</td>\n",
              "      <td>159</td>\n",
              "      <td>147</td>\n",
              "      <td>136</td>\n",
              "      <td>137</td>\n",
              "      <td>...</td>\n",
              "      <td>64</td>\n",
              "      <td>90</td>\n",
              "      <td>120</td>\n",
              "      <td>121</td>\n",
              "      <td>127</td>\n",
              "      <td>136</td>\n",
              "      <td>128</td>\n",
              "      <td>150</td>\n",
              "      <td>154</td>\n",
              "      <td>157</td>\n",
              "      <td>155</td>\n",
              "      <td>167</td>\n",
              "      <td>172</td>\n",
              "      <td>174</td>\n",
              "      <td>173</td>\n",
              "      <td>171</td>\n",
              "      <td>167</td>\n",
              "      <td>163</td>\n",
              "      <td>164</td>\n",
              "      <td>160</td>\n",
              "      <td>155</td>\n",
              "      <td>148</td>\n",
              "      <td>148</td>\n",
              "      <td>144</td>\n",
              "      <td>130</td>\n",
              "      <td>126</td>\n",
              "      <td>124</td>\n",
              "      <td>116</td>\n",
              "      <td>118</td>\n",
              "      <td>110</td>\n",
              "      <td>90</td>\n",
              "      <td>83</td>\n",
              "      <td>77</td>\n",
              "      <td>53</td>\n",
              "      <td>37</td>\n",
              "      <td>34</td>\n",
              "      <td>30</td>\n",
              "      <td>34</td>\n",
              "      <td>30</td>\n",
              "      <td>57</td>\n",
              "    </tr>\n",
              "    <tr>\n",
              "      <th>2</th>\n",
              "      <td>Sad</td>\n",
              "      <td>20</td>\n",
              "      <td>17</td>\n",
              "      <td>19</td>\n",
              "      <td>21</td>\n",
              "      <td>25</td>\n",
              "      <td>38</td>\n",
              "      <td>42</td>\n",
              "      <td>42</td>\n",
              "      <td>46</td>\n",
              "      <td>54</td>\n",
              "      <td>56</td>\n",
              "      <td>62</td>\n",
              "      <td>63</td>\n",
              "      <td>66</td>\n",
              "      <td>82</td>\n",
              "      <td>108</td>\n",
              "      <td>118</td>\n",
              "      <td>130</td>\n",
              "      <td>139</td>\n",
              "      <td>134</td>\n",
              "      <td>132</td>\n",
              "      <td>126</td>\n",
              "      <td>113</td>\n",
              "      <td>97</td>\n",
              "      <td>126</td>\n",
              "      <td>148</td>\n",
              "      <td>157</td>\n",
              "      <td>161</td>\n",
              "      <td>155</td>\n",
              "      <td>154</td>\n",
              "      <td>154</td>\n",
              "      <td>164</td>\n",
              "      <td>189</td>\n",
              "      <td>204</td>\n",
              "      <td>194</td>\n",
              "      <td>168</td>\n",
              "      <td>180</td>\n",
              "      <td>188</td>\n",
              "      <td>214</td>\n",
              "      <td>...</td>\n",
              "      <td>63</td>\n",
              "      <td>42</td>\n",
              "      <td>43</td>\n",
              "      <td>76</td>\n",
              "      <td>80</td>\n",
              "      <td>76</td>\n",
              "      <td>73</td>\n",
              "      <td>69</td>\n",
              "      <td>64</td>\n",
              "      <td>59</td>\n",
              "      <td>53</td>\n",
              "      <td>54</td>\n",
              "      <td>52</td>\n",
              "      <td>54</td>\n",
              "      <td>57</td>\n",
              "      <td>60</td>\n",
              "      <td>66</td>\n",
              "      <td>71</td>\n",
              "      <td>77</td>\n",
              "      <td>85</td>\n",
              "      <td>89</td>\n",
              "      <td>93</td>\n",
              "      <td>102</td>\n",
              "      <td>106</td>\n",
              "      <td>105</td>\n",
              "      <td>99</td>\n",
              "      <td>85</td>\n",
              "      <td>62</td>\n",
              "      <td>34</td>\n",
              "      <td>22</td>\n",
              "      <td>29</td>\n",
              "      <td>36</td>\n",
              "      <td>68</td>\n",
              "      <td>91</td>\n",
              "      <td>85</td>\n",
              "      <td>93</td>\n",
              "      <td>97</td>\n",
              "      <td>99</td>\n",
              "      <td>107</td>\n",
              "      <td>118</td>\n",
              "    </tr>\n",
              "    <tr>\n",
              "      <th>3</th>\n",
              "      <td>Happy</td>\n",
              "      <td>4</td>\n",
              "      <td>2</td>\n",
              "      <td>13</td>\n",
              "      <td>41</td>\n",
              "      <td>56</td>\n",
              "      <td>62</td>\n",
              "      <td>67</td>\n",
              "      <td>87</td>\n",
              "      <td>95</td>\n",
              "      <td>62</td>\n",
              "      <td>65</td>\n",
              "      <td>70</td>\n",
              "      <td>80</td>\n",
              "      <td>107</td>\n",
              "      <td>127</td>\n",
              "      <td>149</td>\n",
              "      <td>153</td>\n",
              "      <td>150</td>\n",
              "      <td>165</td>\n",
              "      <td>168</td>\n",
              "      <td>177</td>\n",
              "      <td>187</td>\n",
              "      <td>176</td>\n",
              "      <td>167</td>\n",
              "      <td>152</td>\n",
              "      <td>128</td>\n",
              "      <td>130</td>\n",
              "      <td>149</td>\n",
              "      <td>149</td>\n",
              "      <td>146</td>\n",
              "      <td>130</td>\n",
              "      <td>139</td>\n",
              "      <td>139</td>\n",
              "      <td>143</td>\n",
              "      <td>134</td>\n",
              "      <td>105</td>\n",
              "      <td>78</td>\n",
              "      <td>56</td>\n",
              "      <td>36</td>\n",
              "      <td>...</td>\n",
              "      <td>19</td>\n",
              "      <td>16</td>\n",
              "      <td>11</td>\n",
              "      <td>8</td>\n",
              "      <td>46</td>\n",
              "      <td>47</td>\n",
              "      <td>46</td>\n",
              "      <td>47</td>\n",
              "      <td>48</td>\n",
              "      <td>51</td>\n",
              "      <td>55</td>\n",
              "      <td>55</td>\n",
              "      <td>56</td>\n",
              "      <td>76</td>\n",
              "      <td>85</td>\n",
              "      <td>84</td>\n",
              "      <td>84</td>\n",
              "      <td>77</td>\n",
              "      <td>86</td>\n",
              "      <td>86</td>\n",
              "      <td>80</td>\n",
              "      <td>79</td>\n",
              "      <td>82</td>\n",
              "      <td>84</td>\n",
              "      <td>76</td>\n",
              "      <td>62</td>\n",
              "      <td>57</td>\n",
              "      <td>62</td>\n",
              "      <td>61</td>\n",
              "      <td>62</td>\n",
              "      <td>59</td>\n",
              "      <td>66</td>\n",
              "      <td>80</td>\n",
              "      <td>74</td>\n",
              "      <td>69</td>\n",
              "      <td>99</td>\n",
              "      <td>28</td>\n",
              "      <td>3</td>\n",
              "      <td>7</td>\n",
              "      <td>12</td>\n",
              "    </tr>\n",
              "    <tr>\n",
              "      <th>4</th>\n",
              "      <td>Fear</td>\n",
              "      <td>255</td>\n",
              "      <td>255</td>\n",
              "      <td>255</td>\n",
              "      <td>255</td>\n",
              "      <td>255</td>\n",
              "      <td>255</td>\n",
              "      <td>255</td>\n",
              "      <td>255</td>\n",
              "      <td>255</td>\n",
              "      <td>255</td>\n",
              "      <td>255</td>\n",
              "      <td>255</td>\n",
              "      <td>255</td>\n",
              "      <td>255</td>\n",
              "      <td>255</td>\n",
              "      <td>255</td>\n",
              "      <td>255</td>\n",
              "      <td>255</td>\n",
              "      <td>255</td>\n",
              "      <td>255</td>\n",
              "      <td>255</td>\n",
              "      <td>255</td>\n",
              "      <td>255</td>\n",
              "      <td>255</td>\n",
              "      <td>255</td>\n",
              "      <td>255</td>\n",
              "      <td>255</td>\n",
              "      <td>255</td>\n",
              "      <td>255</td>\n",
              "      <td>255</td>\n",
              "      <td>255</td>\n",
              "      <td>255</td>\n",
              "      <td>255</td>\n",
              "      <td>255</td>\n",
              "      <td>255</td>\n",
              "      <td>255</td>\n",
              "      <td>255</td>\n",
              "      <td>255</td>\n",
              "      <td>255</td>\n",
              "      <td>...</td>\n",
              "      <td>43</td>\n",
              "      <td>57</td>\n",
              "      <td>66</td>\n",
              "      <td>74</td>\n",
              "      <td>76</td>\n",
              "      <td>76</td>\n",
              "      <td>82</td>\n",
              "      <td>87</td>\n",
              "      <td>97</td>\n",
              "      <td>72</td>\n",
              "      <td>30</td>\n",
              "      <td>60</td>\n",
              "      <td>68</td>\n",
              "      <td>78</td>\n",
              "      <td>72</td>\n",
              "      <td>63</td>\n",
              "      <td>46</td>\n",
              "      <td>80</td>\n",
              "      <td>80</td>\n",
              "      <td>35</td>\n",
              "      <td>39</td>\n",
              "      <td>48</td>\n",
              "      <td>65</td>\n",
              "      <td>90</td>\n",
              "      <td>89</td>\n",
              "      <td>53</td>\n",
              "      <td>17</td>\n",
              "      <td>37</td>\n",
              "      <td>44</td>\n",
              "      <td>82</td>\n",
              "      <td>94</td>\n",
              "      <td>21</td>\n",
              "      <td>22</td>\n",
              "      <td>51</td>\n",
              "      <td>71</td>\n",
              "      <td>80</td>\n",
              "      <td>82</td>\n",
              "      <td>79</td>\n",
              "      <td>79</td>\n",
              "      <td>83</td>\n",
              "    </tr>\n",
              "  </tbody>\n",
              "</table>\n",
              "<p>5 rows × 2305 columns</p>\n",
              "</div>"
            ],
            "text/plain": [
              "  emotion  pixel_0  pixel_1  ...  pixel_2301  pixel_2302  pixel_2303\n",
              "0    Fear      231      212  ...          88         110         152\n",
              "1    Fear       55       55  ...          34          30          57\n",
              "2     Sad       20       17  ...          99         107         118\n",
              "3   Happy        4        2  ...           3           7          12\n",
              "4    Fear      255      255  ...          79          79          83\n",
              "\n",
              "[5 rows x 2305 columns]"
            ]
          },
          "metadata": {
            "tags": []
          },
          "execution_count": 8
        }
      ]
    },
    {
      "cell_type": "code",
      "metadata": {
        "id": "BRviy7KqBA-Y",
        "colab_type": "code",
        "colab": {
          "base_uri": "https://localhost:8080/",
          "height": 33
        },
        "outputId": "e6d0ac48-0673-44b7-ee6d-1d50a1ea0019"
      },
      "source": [
        "df.shape"
      ],
      "execution_count": null,
      "outputs": [
        {
          "output_type": "execute_result",
          "data": {
            "text/plain": [
              "(10817, 2305)"
            ]
          },
          "metadata": {
            "tags": []
          },
          "execution_count": 9
        }
      ]
    },
    {
      "cell_type": "code",
      "metadata": {
        "id": "wmkGt8KzBqMo",
        "colab_type": "code",
        "colab": {
          "base_uri": "https://localhost:8080/",
          "height": 217
        },
        "outputId": "3b178596-f751-4e4a-b6d9-7b89e6be528d"
      },
      "source": [
        "df.isnull().sum()"
      ],
      "execution_count": null,
      "outputs": [
        {
          "output_type": "execute_result",
          "data": {
            "text/plain": [
              "emotion       0\n",
              "pixel_0       0\n",
              "pixel_1       0\n",
              "pixel_2       0\n",
              "pixel_3       0\n",
              "             ..\n",
              "pixel_2299    0\n",
              "pixel_2300    0\n",
              "pixel_2301    0\n",
              "pixel_2302    0\n",
              "pixel_2303    0\n",
              "Length: 2305, dtype: int64"
            ]
          },
          "metadata": {
            "tags": []
          },
          "execution_count": 12
        }
      ]
    },
    {
      "cell_type": "code",
      "metadata": {
        "id": "wszSwGblBzAW",
        "colab_type": "code",
        "colab": {
          "base_uri": "https://localhost:8080/",
          "height": 283
        },
        "outputId": "b3713937-f651-44bb-c33e-294f5073386b"
      },
      "source": [
        "df.emotion.hist()"
      ],
      "execution_count": null,
      "outputs": [
        {
          "output_type": "execute_result",
          "data": {
            "text/plain": [
              "<matplotlib.axes._subplots.AxesSubplot at 0x7fc2f84267b8>"
            ]
          },
          "metadata": {
            "tags": []
          },
          "execution_count": 13
        },
        {
          "output_type": "display_data",
          "data": {
            "image/png": "[encoded data removed]",
            "text/plain": [
              "<Figure size 432x288 with 1 Axes>"
            ]
          },
          "metadata": {
            "tags": [],
            "needs_background": "light"
          }
        }
      ]
    },
    {
      "cell_type": "code",
      "metadata": {
        "id": "e7Of1Dw0B8Ze",
        "colab_type": "code",
        "colab": {}
      },
      "source": [
        "X = df.iloc[:,1:].values\n",
        "y = df.emotion.values"
      ],
      "execution_count": 9,
      "outputs": []
    },
    {
      "cell_type": "code",
      "metadata": {
        "id": "8a5FZeM2ZYTm",
        "colab_type": "code",
        "colab": {
          "base_uri": "https://localhost:8080/",
          "height": 283
        },
        "outputId": "2253be10-6eb6-4857-b969-1208dc315505"
      },
      "source": [
        "from matplotlib import pyplot as mlt\n",
        "mlt.imshow(X[10].reshape(48,48), cmap='gray', vmin=0, vmax=255)\n",
        "print(y[10])"
      ],
      "execution_count": null,
      "outputs": [
        {
          "output_type": "stream",
          "text": [
            "Happy\n"
          ],
          "name": "stdout"
        },
        {
          "output_type": "display_data",
          "data": {
            "image/png": "[encoded data removed]",
            "text/plain": [
              "<Figure size 432x288 with 1 Axes>"
            ]
          },
          "metadata": {
            "tags": [],
            "needs_background": "light"
          }
        }
      ]
    },
    {
      "cell_type": "code",
      "metadata": {
        "id": "NgG4uET1XM5I",
        "colab_type": "code",
        "colab": {
          "base_uri": "https://localhost:8080/",
          "height": 241
        },
        "outputId": "ca9e870b-905d-4dda-d636-52e2d16f238a"
      },
      "source": [
        "from PIL import Image\n",
        "image = Image.fromarray(np.uint8(X[10].reshape(48,48)))\n",
        "img = image.resize((224, 224), Image.BILINEAR)\n",
        "img"
      ],
      "execution_count": null,
      "outputs": [
        {
          "output_type": "execute_result",
          "data": {
            "image/png": "[encoded data removed]",
            "text/plain": [
              "<PIL.Image.Image image mode=L size=224x224 at 0x7F29FB5AD4E0>"
            ]
          },
          "metadata": {
            "tags": []
          },
          "execution_count": 10
        }
      ]
    },
    {
      "cell_type": "code",
      "metadata": {
        "id": "6FEnbOm0LkaJ",
        "colab_type": "code",
        "colab": {
          "base_uri": "https://localhost:8080/",
          "height": 33
        },
        "outputId": "112a15b8-d862-4715-b817-d8231b2d7bde"
      },
      "source": [
        "np.asarray(img).shape"
      ],
      "execution_count": null,
      "outputs": [
        {
          "output_type": "execute_result",
          "data": {
            "text/plain": [
              "(224, 224)"
            ]
          },
          "metadata": {
            "tags": []
          },
          "execution_count": 11
        }
      ]
    },
    {
      "cell_type": "markdown",
      "metadata": {
        "id": "x3DvtnzEojSR",
        "colab_type": "text"
      },
      "source": [
        "# ExtraTreeClassifier"
      ]
    },
    {
      "cell_type": "code",
      "metadata": {
        "id": "ezOVBIDzCIY-",
        "colab_type": "code",
        "colab": {}
      },
      "source": [
        "from sklearn.ensemble import ExtraTreesClassifier\n",
        "from sklearn.metrics import accuracy_score, f1_score"
      ],
      "execution_count": null,
      "outputs": []
    },
    {
      "cell_type": "code",
      "metadata": {
        "id": "fMtGeeitCiy6",
        "colab_type": "code",
        "colab": {}
      },
      "source": [
        "from sklearn.model_selection import train_test_split\n",
        "X_train, X_test, y_train, y_test = train_test_split(X, y, test_size=0.2, random_state=32, shuffle=True)"
      ],
      "execution_count": null,
      "outputs": []
    },
    {
      "cell_type": "code",
      "metadata": {
        "id": "KsLUHu_eC7XB",
        "colab_type": "code",
        "colab": {
          "base_uri": "https://localhost:8080/",
          "height": 150
        },
        "outputId": "2a074cd6-81e6-4896-c025-e0ac9de6cf5e"
      },
      "source": [
        "model = ExtraTreesClassifier(n_jobs=-1)\n",
        "model.fit(X_train, y_train)"
      ],
      "execution_count": null,
      "outputs": [
        {
          "output_type": "execute_result",
          "data": {
            "text/plain": [
              "ExtraTreesClassifier(bootstrap=False, ccp_alpha=0.0, class_weight=None,\n",
              "                     criterion='gini', max_depth=None, max_features='auto',\n",
              "                     max_leaf_nodes=None, max_samples=None,\n",
              "                     min_impurity_decrease=0.0, min_impurity_split=None,\n",
              "                     min_samples_leaf=1, min_samples_split=2,\n",
              "                     min_weight_fraction_leaf=0.0, n_estimators=100, n_jobs=-1,\n",
              "                     oob_score=False, random_state=None, verbose=0,\n",
              "                     warm_start=False)"
            ]
          },
          "metadata": {
            "tags": []
          },
          "execution_count": 17
        }
      ]
    },
    {
      "cell_type": "code",
      "metadata": {
        "id": "vIcST-8zECr1",
        "colab_type": "code",
        "colab": {}
      },
      "source": [
        "y_pred = model.predict(X_test)"
      ],
      "execution_count": null,
      "outputs": []
    },
    {
      "cell_type": "code",
      "metadata": {
        "id": "CkKd_mZjEK3C",
        "colab_type": "code",
        "colab": {
          "base_uri": "https://localhost:8080/",
          "height": 33
        },
        "outputId": "c98611c4-70f9-472c-870f-178dae46b3ac"
      },
      "source": [
        "accuracy_score(y_test, y_pred)"
      ],
      "execution_count": null,
      "outputs": [
        {
          "output_type": "execute_result",
          "data": {
            "text/plain": [
              "0.5965804066543438"
            ]
          },
          "metadata": {
            "tags": []
          },
          "execution_count": 19
        }
      ]
    },
    {
      "cell_type": "code",
      "metadata": {
        "id": "GhtddR3PETln",
        "colab_type": "code",
        "colab": {
          "base_uri": "https://localhost:8080/",
          "height": 150
        },
        "outputId": "6912a4c3-afe9-4e0f-be02-c06751481940"
      },
      "source": [
        "model.get_params"
      ],
      "execution_count": null,
      "outputs": [
        {
          "output_type": "execute_result",
          "data": {
            "text/plain": [
              "<bound method BaseEstimator.get_params of ExtraTreesClassifier(bootstrap=False, ccp_alpha=0.0, class_weight=None,\n",
              "                     criterion='gini', max_depth=None, max_features='auto',\n",
              "                     max_leaf_nodes=None, max_samples=None,\n",
              "                     min_impurity_decrease=0.0, min_impurity_split=None,\n",
              "                     min_samples_leaf=1, min_samples_split=2,\n",
              "                     min_weight_fraction_leaf=0.0, n_estimators=100, n_jobs=-1,\n",
              "                     oob_score=False, random_state=None, verbose=0,\n",
              "                     warm_start=False)>"
            ]
          },
          "metadata": {
            "tags": []
          },
          "execution_count": 21
        }
      ]
    },
    {
      "cell_type": "code",
      "metadata": {
        "id": "nYIVg0z-GCqg",
        "colab_type": "code",
        "colab": {
          "base_uri": "https://localhost:8080/",
          "height": 133
        },
        "outputId": "a3f88c5e-eb8f-401e-922c-e82f6f6d0f33"
      },
      "source": [
        "from sklearn.model_selection import RandomizedSearchCV\n",
        "from pprint import pprint\n",
        "# Number of trees in random forest\n",
        "n_estimators = [10, 120, 200, 400, 600]\n",
        "# Number of features to consider at every split\n",
        "max_features = ['log2', 'sqrt']\n",
        "# Maximum number of levels in tree\n",
        "max_depth = [int(x) for x in np.linspace(10, 110, num = 11)]\n",
        "max_depth.append(None)\n",
        "# Minimum number of samples required to split a node\n",
        "min_samples_split = [2, 5, 10]\n",
        "# Minimum number of samples required at each leaf node\n",
        "min_samples_leaf = [1, 2, 4]\n",
        "# Method of selecting samples for training each tree\n",
        "bootstrap = [True, False]\n",
        "criterion = [\"gini\", \"entropy\"]\n",
        "# Create the random grid\n",
        "random_grid = {'n_estimators': n_estimators,\n",
        "               'max_features': max_features,\n",
        "               'max_depth': max_depth,\n",
        "               'min_samples_split': min_samples_split,\n",
        "               'min_samples_leaf': min_samples_leaf,\n",
        "               'bootstrap': bootstrap,\n",
        "               'criterion' : criterion}\n",
        "pprint(random_grid)"
      ],
      "execution_count": null,
      "outputs": [
        {
          "output_type": "stream",
          "text": [
            "{'bootstrap': [True, False],\n",
            " 'criterion': ['gini', 'entropy'],\n",
            " 'max_depth': [10, 20, 30, 40, 50, 60, 70, 80, 90, 100, 110, None],\n",
            " 'max_features': ['log2', 'sqrt'],\n",
            " 'min_samples_leaf': [1, 2, 4],\n",
            " 'min_samples_split': [2, 5, 10],\n",
            " 'n_estimators': [10, 120, 200, 400, 600]}\n"
          ],
          "name": "stdout"
        }
      ]
    },
    {
      "cell_type": "code",
      "metadata": {
        "id": "PDSDHRraGTBQ",
        "colab_type": "code",
        "colab": {}
      },
      "source": [
        "RandomModel = RandomizedSearchCV(estimator = model, param_distributions = random_grid, n_iter = 100, cv = 3, verbose=2, random_state=42, n_jobs = -1, scoring='accuracy')"
      ],
      "execution_count": null,
      "outputs": []
    },
    {
      "cell_type": "code",
      "metadata": {
        "id": "nOB3hlJ2HMY2",
        "colab_type": "code",
        "colab": {
          "base_uri": "https://localhost:8080/",
          "height": 603
        },
        "outputId": "eaa443d8-44d7-40a3-801d-4380b7baa7c3"
      },
      "source": [
        "RandomModel.fit(X_train, y_train)"
      ],
      "execution_count": null,
      "outputs": [
        {
          "output_type": "stream",
          "text": [
            "Fitting 3 folds for each of 100 candidates, totalling 300 fits\n"
          ],
          "name": "stdout"
        },
        {
          "output_type": "stream",
          "text": [
            "[Parallel(n_jobs=-1)]: Using backend LokyBackend with 2 concurrent workers.\n",
            "/usr/local/lib/python3.6/dist-packages/joblib/externals/loky/process_executor.py:691: UserWarning: A worker stopped while some jobs were given to the executor. This can be caused by a too short worker timeout or by a memory leak.\n",
            "  \"timeout or by a memory leak.\", UserWarning\n",
            "[Parallel(n_jobs=-1)]: Done  37 tasks      | elapsed:  5.4min\n",
            "[Parallel(n_jobs=-1)]: Done 158 tasks      | elapsed: 21.1min\n",
            "[Parallel(n_jobs=-1)]: Done 300 out of 300 | elapsed: 41.8min finished\n"
          ],
          "name": "stderr"
        },
        {
          "output_type": "execute_result",
          "data": {
            "text/plain": [
              "RandomizedSearchCV(cv=3, error_score=nan,\n",
              "                   estimator=ExtraTreesClassifier(bootstrap=False,\n",
              "                                                  ccp_alpha=0.0,\n",
              "                                                  class_weight=None,\n",
              "                                                  criterion='gini',\n",
              "                                                  max_depth=None,\n",
              "                                                  max_features='auto',\n",
              "                                                  max_leaf_nodes=None,\n",
              "                                                  max_samples=None,\n",
              "                                                  min_impurity_decrease=0.0,\n",
              "                                                  min_impurity_split=None,\n",
              "                                                  min_samples_leaf=1,\n",
              "                                                  min_samples_split=2,\n",
              "                                                  min_weight_fraction_leaf=0.0,\n",
              "                                                  n_estimators=100, n_jobs=...\n",
              "                   param_distributions={'bootstrap': [True, False],\n",
              "                                        'criterion': ['gini', 'entropy'],\n",
              "                                        'max_depth': [10, 20, 30, 40, 50, 60,\n",
              "                                                      70, 80, 90, 100, 110,\n",
              "                                                      None],\n",
              "                                        'max_features': ['log2', 'sqrt'],\n",
              "                                        'min_samples_leaf': [1, 2, 4],\n",
              "                                        'min_samples_split': [2, 5, 10],\n",
              "                                        'n_estimators': [10, 120, 200, 400,\n",
              "                                                         600]},\n",
              "                   pre_dispatch='2*n_jobs', random_state=42, refit=True,\n",
              "                   return_train_score=False, scoring='accuracy', verbose=2)"
            ]
          },
          "metadata": {
            "tags": []
          },
          "execution_count": 25
        }
      ]
    },
    {
      "cell_type": "code",
      "metadata": {
        "id": "TECeUmoEHUKg",
        "colab_type": "code",
        "colab": {
          "base_uri": "https://localhost:8080/",
          "height": 133
        },
        "outputId": "0e00cf70-0607-4c11-ab3f-98ce243a89bd"
      },
      "source": [
        "RandomModel.best_params_"
      ],
      "execution_count": null,
      "outputs": [
        {
          "output_type": "execute_result",
          "data": {
            "text/plain": [
              "{'bootstrap': False,\n",
              " 'criterion': 'gini',\n",
              " 'max_depth': 40,\n",
              " 'max_features': 'sqrt',\n",
              " 'min_samples_leaf': 1,\n",
              " 'min_samples_split': 5,\n",
              " 'n_estimators': 400}"
            ]
          },
          "metadata": {
            "tags": []
          },
          "execution_count": 26
        }
      ]
    },
    {
      "cell_type": "code",
      "metadata": {
        "id": "l7Xu01HVz5I3",
        "colab_type": "code",
        "colab": {
          "base_uri": "https://localhost:8080/",
          "height": 33
        },
        "outputId": "e86e2c4d-6d1f-43d1-bb44-1192465a699c"
      },
      "source": [
        "from sklearn.model_selection import GridSearchCV\n",
        "n_estimators = [300,350,400,450,500]\n",
        "max_depth = [30,35,40,45,50]\n",
        "# Create the random grid\n",
        "random_grid = {'n_estimators': n_estimators,\n",
        "               'max_depth': max_depth,\n",
        "               }\n",
        "pprint(random_grid)"
      ],
      "execution_count": null,
      "outputs": [
        {
          "output_type": "stream",
          "text": [
            "{'max_depth': [30, 35, 40, 45, 50], 'n_estimators': [300, 350, 400, 450, 500]}\n"
          ],
          "name": "stdout"
        }
      ]
    },
    {
      "cell_type": "code",
      "metadata": {
        "colab_type": "code",
        "id": "YLHt7W0P03es",
        "colab": {}
      },
      "source": [
        "rf = ExtraTreesClassifier(random_state = 43,\n",
        "                            bootstrap=False,\n",
        "                            criterion='gini',\n",
        "                            max_features='sqrt',\n",
        "                            min_samples_leaf=1,\n",
        "                            min_samples_split=5,\n",
        "                            n_jobs=-1)"
      ],
      "execution_count": null,
      "outputs": []
    },
    {
      "cell_type": "code",
      "metadata": {
        "colab_type": "code",
        "id": "5xowbzNg03e2",
        "colab": {}
      },
      "source": [
        "GridModel = GridSearchCV(estimator = rf, param_grid= random_grid, cv = 3, verbose=2, n_jobs = -1, scoring='accuracy')"
      ],
      "execution_count": null,
      "outputs": []
    },
    {
      "cell_type": "code",
      "metadata": {
        "colab_type": "code",
        "id": "boDjnI1803fA",
        "colab": {
          "base_uri": "https://localhost:8080/",
          "height": 400
        },
        "outputId": "e3372e66-0404-4760-d050-910b4507e591"
      },
      "source": [
        "# Fit the random search model\n",
        "GridModel.fit(X_train, y_train)"
      ],
      "execution_count": null,
      "outputs": [
        {
          "output_type": "stream",
          "text": [
            "Fitting 3 folds for each of 25 candidates, totalling 75 fits\n"
          ],
          "name": "stdout"
        },
        {
          "output_type": "stream",
          "text": [
            "[Parallel(n_jobs=-1)]: Using backend LokyBackend with 2 concurrent workers.\n",
            "[Parallel(n_jobs=-1)]: Done  37 tasks      | elapsed: 11.4min\n",
            "[Parallel(n_jobs=-1)]: Done  75 out of  75 | elapsed: 23.1min finished\n"
          ],
          "name": "stderr"
        },
        {
          "output_type": "execute_result",
          "data": {
            "text/plain": [
              "GridSearchCV(cv=3, error_score=nan,\n",
              "             estimator=ExtraTreesClassifier(bootstrap=False, ccp_alpha=0.0,\n",
              "                                            class_weight=None, criterion='gini',\n",
              "                                            max_depth=None, max_features='sqrt',\n",
              "                                            max_leaf_nodes=None,\n",
              "                                            max_samples=None,\n",
              "                                            min_impurity_decrease=0.0,\n",
              "                                            min_impurity_split=None,\n",
              "                                            min_samples_leaf=1,\n",
              "                                            min_samples_split=5,\n",
              "                                            min_weight_fraction_leaf=0.0,\n",
              "                                            n_estimators=100, n_jobs=-1,\n",
              "                                            oob_score=False, random_state=43,\n",
              "                                            verbose=0, warm_start=False),\n",
              "             iid='deprecated', n_jobs=-1,\n",
              "             param_grid={'max_depth': [30, 35, 40, 45, 50],\n",
              "                         'n_estimators': [300, 350, 400, 450, 500]},\n",
              "             pre_dispatch='2*n_jobs', refit=True, return_train_score=False,\n",
              "             scoring='accuracy', verbose=2)"
            ]
          },
          "metadata": {
            "tags": []
          },
          "execution_count": 31
        }
      ]
    },
    {
      "cell_type": "code",
      "metadata": {
        "colab_type": "code",
        "id": "4WTXyCWb03fG",
        "colab": {
          "base_uri": "https://localhost:8080/",
          "height": 33
        },
        "outputId": "cf12c779-dc9d-40e5-a9e9-688fad5eb525"
      },
      "source": [
        "GridModel.best_params_"
      ],
      "execution_count": null,
      "outputs": [
        {
          "output_type": "execute_result",
          "data": {
            "text/plain": [
              "{'max_depth': 30, 'n_estimators': 400}"
            ]
          },
          "metadata": {
            "tags": []
          },
          "execution_count": 32
        }
      ]
    },
    {
      "cell_type": "code",
      "metadata": {
        "colab_type": "code",
        "id": "1SbrNLiCzBnF",
        "colab": {}
      },
      "source": [
        "pred = GridModel.predict(X_test)"
      ],
      "execution_count": null,
      "outputs": []
    },
    {
      "cell_type": "code",
      "metadata": {
        "colab_type": "code",
        "id": "SPIlkjnNzBnO",
        "colab": {
          "base_uri": "https://localhost:8080/",
          "height": 33
        },
        "outputId": "1e24abff-875d-460f-93d0-341a813912b0"
      },
      "source": [
        "accuracy_score(y_test, pred)"
      ],
      "execution_count": null,
      "outputs": [
        {
          "output_type": "execute_result",
          "data": {
            "text/plain": [
              "0.6081330868761553"
            ]
          },
          "metadata": {
            "tags": []
          },
          "execution_count": 34
        }
      ]
    },
    {
      "cell_type": "markdown",
      "metadata": {
        "id": "xc5qq5W4orAP",
        "colab_type": "text"
      },
      "source": [
        "# Simple NN"
      ]
    },
    {
      "cell_type": "code",
      "metadata": {
        "id": "LF2hXLNqpfZs",
        "colab_type": "code",
        "colab": {}
      },
      "source": [
        "from keras.models import Sequential\n",
        "from keras.layers import Dense\n",
        "from keras.utils import np_utils\n",
        "from sklearn.preprocessing import LabelEncoder\n",
        "from sklearn.model_selection import train_test_split"
      ],
      "execution_count": null,
      "outputs": []
    },
    {
      "cell_type": "code",
      "metadata": {
        "id": "PKX18Bm2yfUI",
        "colab_type": "code",
        "colab": {}
      },
      "source": [
        "# encode class values as integers\n",
        "encoder = LabelEncoder()\n",
        "encoder.fit(y)\n",
        "encoded_y = encoder.transform(y)"
      ],
      "execution_count": null,
      "outputs": []
    },
    {
      "cell_type": "code",
      "metadata": {
        "id": "toKslxkpynXn",
        "colab_type": "code",
        "colab": {}
      },
      "source": [
        "X_train, X_test, y_train, y_test = train_test_split(X, encoded_y, test_size=0.2, random_state=32, shuffle=True)"
      ],
      "execution_count": null,
      "outputs": []
    },
    {
      "cell_type": "code",
      "metadata": {
        "id": "7YHSIGdJot0N",
        "colab_type": "code",
        "colab": {}
      },
      "source": [
        "X_train = X_train.astype('float32')\n",
        "X_test = X_test.astype('float32')\n",
        "\n",
        "# normalizing the data to help with the training\n",
        "X_train /= 255\n",
        "X_test /= 255"
      ],
      "execution_count": null,
      "outputs": []
    },
    {
      "cell_type": "code",
      "metadata": {
        "id": "JBi4_vK-pQHv",
        "colab_type": "code",
        "colab": {
          "base_uri": "https://localhost:8080/",
          "height": 50
        },
        "outputId": "07f49d5f-0846-4386-b090-151d795f4215"
      },
      "source": [
        "# one-hot encoding using keras' numpy-related utilities\n",
        "n_classes = 3\n",
        "print(\"Shape before one-hot encoding: \", y_train.shape)\n",
        "y_train = np_utils.to_categorical(y_train, n_classes)\n",
        "y_test = np_utils.to_categorical(y_test, n_classes)\n",
        "print(\"Shape after one-hot encoding: \", y_train.shape)"
      ],
      "execution_count": null,
      "outputs": [
        {
          "output_type": "stream",
          "text": [
            "Shape before one-hot encoding:  (8653,)\n",
            "Shape after one-hot encoding:  (8653, 3)\n"
          ],
          "name": "stdout"
        }
      ]
    },
    {
      "cell_type": "code",
      "metadata": {
        "id": "iPVccWJBzO91",
        "colab_type": "code",
        "colab": {
          "base_uri": "https://localhost:8080/",
          "height": 700
        },
        "outputId": "31d56f01-6b9a-439a-ebd5-3480f096075a"
      },
      "source": [
        "# building a linear stack of layers with the sequential model\n",
        "model = Sequential()\n",
        "# hidden layer\n",
        "model.add(Dense(4000, input_shape=(2304,), activation='relu'))\n",
        "model.add(Dense(2000, activation='relu'))\n",
        "model.add(Dense(1000, activation='relu'))\n",
        "model.add(Dense(500, activation='relu'))\n",
        "model.add(Dense(100, activation='relu'))\n",
        "# output layer\n",
        "model.add(Dense(3, activation='softmax'))\n",
        "\n",
        "# looking at the model summary\n",
        "model.summary()\n",
        "# compiling the sequential model\n",
        "model.compile(loss='categorical_crossentropy', metrics=['accuracy'], optimizer='adam')\n",
        "# training the model for 10 epochs\n",
        "model.fit(X_train, y_train, batch_size=128, epochs=10, validation_data=(X_test, y_test))"
      ],
      "execution_count": null,
      "outputs": [
        {
          "output_type": "stream",
          "text": [
            "Model: \"sequential_3\"\n",
            "_________________________________________________________________\n",
            "Layer (type)                 Output Shape              Param #   \n",
            "=================================================================\n",
            "dense_6 (Dense)              (None, 4000)              9220000   \n",
            "_________________________________________________________________\n",
            "dense_7 (Dense)              (None, 2000)              8002000   \n",
            "_________________________________________________________________\n",
            "dense_8 (Dense)              (None, 1000)              2001000   \n",
            "_________________________________________________________________\n",
            "dense_9 (Dense)              (None, 500)               500500    \n",
            "_________________________________________________________________\n",
            "dense_10 (Dense)             (None, 100)               50100     \n",
            "_________________________________________________________________\n",
            "dense_11 (Dense)             (None, 3)                 303       \n",
            "=================================================================\n",
            "Total params: 19,773,903\n",
            "Trainable params: 19,773,903\n",
            "Non-trainable params: 0\n",
            "_________________________________________________________________\n",
            "Epoch 1/10\n",
            "68/68 [==============================] - 24s 348ms/step - loss: 159.0363 - accuracy: 0.3577 - val_loss: 1.2611 - val_accuracy: 0.4556\n",
            "Epoch 2/10\n",
            "68/68 [==============================] - 23s 343ms/step - loss: 1.1032 - accuracy: 0.4257 - val_loss: 1.0218 - val_accuracy: 0.4982\n",
            "Epoch 3/10\n",
            "68/68 [==============================] - 24s 346ms/step - loss: 1.0572 - accuracy: 0.4667 - val_loss: 1.0262 - val_accuracy: 0.5092\n",
            "Epoch 4/10\n",
            "68/68 [==============================] - 24s 347ms/step - loss: 1.0170 - accuracy: 0.4960 - val_loss: 1.0001 - val_accuracy: 0.5157\n",
            "Epoch 5/10\n",
            "68/68 [==============================] - 24s 351ms/step - loss: 0.9833 - accuracy: 0.5338 - val_loss: 0.9829 - val_accuracy: 0.5347\n",
            "Epoch 6/10\n",
            "68/68 [==============================] - 24s 349ms/step - loss: 0.9811 - accuracy: 0.5277 - val_loss: 0.9833 - val_accuracy: 0.5236\n",
            "Epoch 7/10\n",
            "68/68 [==============================] - 24s 349ms/step - loss: 0.9848 - accuracy: 0.5224 - val_loss: 0.9781 - val_accuracy: 0.5402\n",
            "Epoch 8/10\n",
            "68/68 [==============================] - 24s 350ms/step - loss: 0.9604 - accuracy: 0.5389 - val_loss: 0.9797 - val_accuracy: 0.5231\n",
            "Epoch 9/10\n",
            "68/68 [==============================] - 24s 346ms/step - loss: 0.9515 - accuracy: 0.5481 - val_loss: 0.9902 - val_accuracy: 0.5365\n",
            "Epoch 10/10\n",
            "68/68 [==============================] - 24s 350ms/step - loss: 0.9414 - accuracy: 0.5503 - val_loss: 0.9560 - val_accuracy: 0.5467\n"
          ],
          "name": "stdout"
        },
        {
          "output_type": "execute_result",
          "data": {
            "text/plain": [
              "<tensorflow.python.keras.callbacks.History at 0x7fc2ad6e75c0>"
            ]
          },
          "metadata": {
            "tags": []
          },
          "execution_count": 57
        }
      ]
    },
    {
      "cell_type": "markdown",
      "metadata": {
        "id": "BHHZOeaD44sG",
        "colab_type": "text"
      },
      "source": [
        "# Custom CNN"
      ]
    },
    {
      "cell_type": "code",
      "metadata": {
        "colab_type": "code",
        "id": "i3JkesKt5Z8-",
        "colab": {}
      },
      "source": [
        "from keras.models import Sequential\n",
        "from keras.layers import Dense, Dropout, Conv2D, MaxPool2D, Flatten\n",
        "from keras.utils import np_utils\n",
        "from sklearn.preprocessing import LabelEncoder\n",
        "from sklearn.model_selection import train_test_split\n",
        "import tensorflow as tf"
      ],
      "execution_count": null,
      "outputs": []
    },
    {
      "cell_type": "code",
      "metadata": {
        "colab_type": "code",
        "id": "GT0Uy6Jj5Z9G",
        "colab": {}
      },
      "source": [
        "# encode class values as integers\n",
        "encoder = LabelEncoder()\n",
        "encoder.fit(y)\n",
        "encoded_y = encoder.transform(y)"
      ],
      "execution_count": null,
      "outputs": []
    },
    {
      "cell_type": "code",
      "metadata": {
        "colab_type": "code",
        "id": "76YED5ss5Z9L",
        "colab": {}
      },
      "source": [
        "X_train, X_test, y_train, y_test = train_test_split(X, encoded_y, test_size=0.2, random_state=32, shuffle=True)"
      ],
      "execution_count": null,
      "outputs": []
    },
    {
      "cell_type": "code",
      "metadata": {
        "colab_type": "code",
        "id": "v3FXLvOR5Z9S",
        "colab": {}
      },
      "source": [
        "X_train = X_train.reshape(X_train.shape[0], 48, 48, 1) #Shape -> (#example, width, height, channel)\n",
        "X_test = X_test.reshape(X_test.shape[0], 48, 48, 1)\n",
        "X_train = X_train.astype('float32')\n",
        "X_test = X_test.astype('float32')\n",
        "\n",
        "# normalizing the data to help with the training\n",
        "X_train /= 255\n",
        "X_test /= 255"
      ],
      "execution_count": null,
      "outputs": []
    },
    {
      "cell_type": "code",
      "metadata": {
        "colab_type": "code",
        "id": "_0dYO_qd5Z9e",
        "colab": {
          "base_uri": "https://localhost:8080/",
          "height": 50
        },
        "outputId": "61488aa3-1e11-409a-ccac-b3d724e91b62"
      },
      "source": [
        "# one-hot encoding using keras' numpy-related utilities\n",
        "n_classes = 3\n",
        "print(\"Shape before one-hot encoding: \", y_train.shape)\n",
        "y_train = np_utils.to_categorical(y_train, n_classes)\n",
        "y_test = np_utils.to_categorical(y_test, n_classes)\n",
        "print(\"Shape after one-hot encoding: \", y_train.shape)"
      ],
      "execution_count": null,
      "outputs": [
        {
          "output_type": "stream",
          "text": [
            "Shape before one-hot encoding:  (8653,)\n",
            "Shape after one-hot encoding:  (8653, 3)\n"
          ],
          "name": "stdout"
        }
      ]
    },
    {
      "cell_type": "code",
      "metadata": {
        "id": "VcwI47_Q46-A",
        "colab_type": "code",
        "colab": {}
      },
      "source": [
        "# building a linear stack of layers with the sequential model\n",
        "model = Sequential()\n",
        "\n",
        "# convolutional layer\n",
        "model.add(Conv2D(56, kernel_size=(3,3), strides=(1,1), padding='same', activation='relu', input_shape=(48, 48, 1)))\n",
        "\n",
        "# convolutional layer\n",
        "model.add(Conv2D(72, kernel_size=(3,3), strides=(1,1), padding='same', activation='relu'))\n",
        "model.add(MaxPool2D(pool_size=(2,2)))\n",
        "model.add(Dropout(0.25))\n",
        "\n",
        "model.add(Conv2D(128, kernel_size=(3,3), strides=(1,1), padding='same', activation='relu'))\n",
        "model.add(MaxPool2D(pool_size=(2,2)))\n",
        "model.add(Dropout(0.25))\n",
        "\n",
        "# flatten output of conv\n",
        "model.add(Flatten())\n",
        "\n",
        "# hidden layer\n",
        "model.add(Dense(512, activation='relu'))\n",
        "model.add(Dropout(0.4))\n",
        "model.add(Dense(256, activation='relu'))\n",
        "model.add(Dropout(0.3))\n",
        "# output layer\n",
        "model.add(Dense(3, activation='softmax'))\n",
        "\n",
        "# compiling the sequential model\n",
        "model.compile(loss='categorical_crossentropy', metrics=['accuracy'], optimizer='adam')"
      ],
      "execution_count": null,
      "outputs": []
    },
    {
      "cell_type": "code",
      "metadata": {
        "id": "szsV-5nnOr_L",
        "colab_type": "code",
        "colab": {}
      },
      "source": [
        "checkpoint_filepath = './checkpoint/custom_cnn.h5'\n",
        "model_checkpoint_callback = tf.keras.callbacks.ModelCheckpoint(\n",
        "    filepath=checkpoint_filepath,\n",
        "    save_weights_only=True,\n",
        "    monitor='val_accuracy',\n",
        "    mode='max',\n",
        "    save_best_only=True)"
      ],
      "execution_count": null,
      "outputs": []
    },
    {
      "cell_type": "code",
      "metadata": {
        "id": "Z1pVxzVBS1aF",
        "colab_type": "code",
        "colab": {
          "base_uri": "https://localhost:8080/",
          "height": 700
        },
        "outputId": "3566cb1a-e862-40df-afcf-cf73a9d65d2b"
      },
      "source": [
        "# training the model\n",
        "EPOCHS = 20\n",
        "model.fit(X_train, y_train, batch_size=128, epochs=EPOCHS, validation_data=(X_test, y_test), callbacks=[model_checkpoint_callback])"
      ],
      "execution_count": null,
      "outputs": [
        {
          "output_type": "stream",
          "text": [
            "Epoch 1/20\n",
            "68/68 [==============================] - 3s 39ms/step - loss: 1.0938 - accuracy: 0.4299 - val_loss: 1.0717 - val_accuracy: 0.4510\n",
            "Epoch 2/20\n",
            "68/68 [==============================] - 2s 28ms/step - loss: 1.0425 - accuracy: 0.4709 - val_loss: 0.9679 - val_accuracy: 0.5457\n",
            "Epoch 3/20\n",
            "68/68 [==============================] - 2s 28ms/step - loss: 0.9575 - accuracy: 0.5432 - val_loss: 0.9211 - val_accuracy: 0.5781\n",
            "Epoch 4/20\n",
            "68/68 [==============================] - 2s 28ms/step - loss: 0.9055 - accuracy: 0.5755 - val_loss: 0.8950 - val_accuracy: 0.5943\n",
            "Epoch 5/20\n",
            "68/68 [==============================] - 2s 28ms/step - loss: 0.8654 - accuracy: 0.6030 - val_loss: 0.8529 - val_accuracy: 0.6188\n",
            "Epoch 6/20\n",
            "68/68 [==============================] - 2s 28ms/step - loss: 0.8248 - accuracy: 0.6253 - val_loss: 0.8197 - val_accuracy: 0.6299\n",
            "Epoch 7/20\n",
            "68/68 [==============================] - 2s 29ms/step - loss: 0.7786 - accuracy: 0.6511 - val_loss: 0.7853 - val_accuracy: 0.6437\n",
            "Epoch 8/20\n",
            "68/68 [==============================] - 2s 29ms/step - loss: 0.7359 - accuracy: 0.6719 - val_loss: 0.7657 - val_accuracy: 0.6506\n",
            "Epoch 9/20\n",
            "68/68 [==============================] - 2s 29ms/step - loss: 0.6851 - accuracy: 0.6954 - val_loss: 0.7476 - val_accuracy: 0.6719\n",
            "Epoch 10/20\n",
            "68/68 [==============================] - 2s 29ms/step - loss: 0.6352 - accuracy: 0.7215 - val_loss: 0.7222 - val_accuracy: 0.6747\n",
            "Epoch 11/20\n",
            "68/68 [==============================] - 2s 28ms/step - loss: 0.5831 - accuracy: 0.7481 - val_loss: 0.7270 - val_accuracy: 0.6765\n",
            "Epoch 12/20\n",
            "68/68 [==============================] - 2s 28ms/step - loss: 0.5257 - accuracy: 0.7712 - val_loss: 0.7194 - val_accuracy: 0.6821\n",
            "Epoch 13/20\n",
            "68/68 [==============================] - 2s 28ms/step - loss: 0.4721 - accuracy: 0.8021 - val_loss: 0.7345 - val_accuracy: 0.6890\n",
            "Epoch 14/20\n",
            "68/68 [==============================] - 2s 28ms/step - loss: 0.4193 - accuracy: 0.8261 - val_loss: 0.7468 - val_accuracy: 0.7029\n",
            "Epoch 15/20\n",
            "68/68 [==============================] - 2s 26ms/step - loss: 0.3663 - accuracy: 0.8539 - val_loss: 0.7767 - val_accuracy: 0.6899\n",
            "Epoch 16/20\n",
            "68/68 [==============================] - 2s 26ms/step - loss: 0.3338 - accuracy: 0.8649 - val_loss: 0.8233 - val_accuracy: 0.6927\n",
            "Epoch 17/20\n",
            "68/68 [==============================] - 2s 26ms/step - loss: 0.2912 - accuracy: 0.8832 - val_loss: 0.8337 - val_accuracy: 0.6895\n",
            "Epoch 18/20\n",
            "68/68 [==============================] - 2s 26ms/step - loss: 0.2711 - accuracy: 0.8930 - val_loss: 0.8904 - val_accuracy: 0.6816\n",
            "Epoch 19/20\n",
            "68/68 [==============================] - 2s 26ms/step - loss: 0.2311 - accuracy: 0.9124 - val_loss: 0.9021 - val_accuracy: 0.6941\n",
            "Epoch 20/20\n",
            "68/68 [==============================] - 2s 26ms/step - loss: 0.2002 - accuracy: 0.9250 - val_loss: 0.9234 - val_accuracy: 0.6932\n"
          ],
          "name": "stdout"
        },
        {
          "output_type": "execute_result",
          "data": {
            "text/plain": [
              "<tensorflow.python.keras.callbacks.History at 0x7efee27c1a90>"
            ]
          },
          "metadata": {
            "tags": []
          },
          "execution_count": 30
        }
      ]
    },
    {
      "cell_type": "code",
      "metadata": {
        "id": "kKqy5N48TZ5p",
        "colab_type": "code",
        "colab": {}
      },
      "source": [
        "#Load best weights\n",
        "checkpoint_filepath = './checkpoint/custom_cnn.h5'\n",
        "model.load_weights(checkpoint_filepath)"
      ],
      "execution_count": null,
      "outputs": []
    },
    {
      "cell_type": "code",
      "metadata": {
        "id": "BmHrtuKmT5TT",
        "colab_type": "code",
        "colab": {
          "base_uri": "https://localhost:8080/",
          "height": 100
        },
        "outputId": "214d236c-470e-4a17-d1a0-9f0cde35ef04"
      },
      "source": [
        "# Evaluate the model on the test data using `evaluate`\n",
        "print(\"Evaluate on test data\")\n",
        "results_test = model.evaluate(X_test, y_test, batch_size=128)\n",
        "print(\"test loss, test acc:\", results_test)\n",
        "\n",
        "# Generate predictions (probabilities -- the output of the last layer)\n",
        "# on new data using `predict`\n",
        "print(\"Generate predictions\")\n",
        "predictions = model.predict(X_test)\n",
        "print(\"predictions shape:\", predictions.shape)"
      ],
      "execution_count": null,
      "outputs": [
        {
          "output_type": "stream",
          "text": [
            "Evaluate on test data\n",
            "17/17 [==============================] - 1s 44ms/step - loss: 0.7468 - accuracy: 0.7029\n",
            "test loss, test acc: [0.7467509508132935, 0.7028650641441345]\n",
            "Generate predictions for 3 samples\n",
            "predictions shape: (2164, 3)\n"
          ],
          "name": "stdout"
        }
      ]
    },
    {
      "cell_type": "code",
      "metadata": {
        "id": "k09TP247Cj6A",
        "colab_type": "code",
        "colab": {
          "base_uri": "https://localhost:8080/",
          "height": 100
        },
        "outputId": "0283436f-2c0d-4219-9202-32f3587b3df0"
      },
      "source": [
        "#importing confusion matrix\n",
        "from sklearn.metrics import confusion_matrix\n",
        "confusion = confusion_matrix(y_test.argmax(axis=1), predictions.argmax(axis=1))\n",
        "print('Confusion Matrix\\n')\n",
        "print(confusion)"
      ],
      "execution_count": null,
      "outputs": [
        {
          "output_type": "stream",
          "text": [
            "Confusion Matrix\n",
            "\n",
            "[[336  82 113]\n",
            " [ 72 830  74]\n",
            " [168 134 355]]\n"
          ],
          "name": "stdout"
        }
      ]
    },
    {
      "cell_type": "markdown",
      "metadata": {
        "id": "XAsFx7MtJlVj",
        "colab_type": "text"
      },
      "source": [
        "# Using features from VGG16"
      ]
    },
    {
      "cell_type": "code",
      "metadata": {
        "id": "gW24L6W6JpY1",
        "colab_type": "code",
        "colab": {}
      },
      "source": [
        "from keras.applications.vgg16 import VGG16\n",
        "from keras.models import Sequential\n",
        "from keras.layers import Dense, Dropout, Conv2D, MaxPool2D, Flatten\n",
        "from keras.utils import np_utils\n",
        "from sklearn.preprocessing import LabelEncoder\n",
        "from sklearn.model_selection import train_test_split\n",
        "from PIL import Image\n",
        "import tensorflow as tf\n",
        "from tensorflow.keras.applications.vgg16 import preprocess_input"
      ],
      "execution_count": 1,
      "outputs": []
    },
    {
      "cell_type": "code",
      "metadata": {
        "id": "9JrP799OeJOM",
        "colab_type": "code",
        "colab": {}
      },
      "source": [
        "# encode class values as integers\n",
        "encoder = LabelEncoder()\n",
        "encoder.fit(y)\n",
        "encoded_y = encoder.transform(y)"
      ],
      "execution_count": 10,
      "outputs": []
    },
    {
      "cell_type": "code",
      "metadata": {
        "id": "52vsEJGVHsly",
        "colab_type": "code",
        "colab": {}
      },
      "source": [
        "# Save LabelEncoder for later use\n",
        "np.save('./checkpoint/LabelEncoder.npy', encoder.classes_)"
      ],
      "execution_count": 11,
      "outputs": []
    },
    {
      "cell_type": "code",
      "metadata": {
        "id": "K2mMDwKReIet",
        "colab_type": "code",
        "colab": {}
      },
      "source": [
        "X_train, X_test, y_train, y_test = train_test_split(X, encoded_y, test_size=0.2, random_state=43, shuffle=True)"
      ],
      "execution_count": null,
      "outputs": []
    },
    {
      "cell_type": "code",
      "metadata": {
        "id": "DAUOQgkEeIqY",
        "colab_type": "code",
        "colab": {}
      },
      "source": [
        "# rgb_list = []\n",
        "# #Resizing image data from 48x48 to 224x224\n",
        "# for i in range(X_train.shape[0]):\n",
        "#     image = Image.fromarray(np.uint8(X_train[i].reshape(48, 48))).convert('RGB')\n",
        "#     image = image.resize((224, 224), Image.BILINEAR)\n",
        "#     rgb_list.append(np.asarray(image))\n",
        "#     break"
      ],
      "execution_count": null,
      "outputs": []
    },
    {
      "cell_type": "code",
      "metadata": {
        "id": "-a-ZNtlmxcCl",
        "colab_type": "code",
        "colab": {}
      },
      "source": [
        "# rgb_arr = np.stack([rgb_list],axis=4)\n",
        "# rgb_arr_to_3d = np.squeeze(rgb_arr, axis=4)\n",
        "# print(rgb_arr_to_3d.shape)"
      ],
      "execution_count": null,
      "outputs": []
    },
    {
      "cell_type": "code",
      "metadata": {
        "id": "oHcuLf5xLS64",
        "colab_type": "code",
        "colab": {}
      },
      "source": [
        "def VGG16_prep(train_data):\n",
        "    rgb_list = []\n",
        "    #Resizing image data from 48x48 to 224x224\n",
        "    for i in range(train_data.shape[0]):\n",
        "        image = Image.fromarray(np.uint8(train_data[i].reshape(48, 48))).convert('RGB')\n",
        "        image = image.resize((224, 224), Image.BILINEAR)\n",
        "        rgb_list.append(np.asarray(image))\n",
        "\n",
        "    rgb_arr = np.stack([rgb_list],axis=4)\n",
        "    rgb_arr_to_3d = np.squeeze(rgb_arr, axis=4)\n",
        "    # rgb_arr_to_3d = np.expand_dims(rgb_arr_to_3d.astype('float32'), axis=0)\n",
        "    return preprocess_input(rgb_arr_to_3d.astype('float32'))"
      ],
      "execution_count": null,
      "outputs": []
    },
    {
      "cell_type": "code",
      "metadata": {
        "id": "QFOtdGB4ecG7",
        "colab_type": "code",
        "colab": {}
      },
      "source": [
        "X_train = VGG16_prep(X_train)\n",
        "X_test = VGG16_prep(X_test)"
      ],
      "execution_count": null,
      "outputs": []
    },
    {
      "cell_type": "code",
      "metadata": {
        "id": "g3Xd9kXyIuVw",
        "colab_type": "code",
        "colab": {
          "base_uri": "https://localhost:8080/",
          "height": 33
        },
        "outputId": "c3407ecb-8e6d-482a-e6d0-d166e946b664"
      },
      "source": [
        "X_train.shape"
      ],
      "execution_count": null,
      "outputs": [
        {
          "output_type": "execute_result",
          "data": {
            "text/plain": [
              "(8653, 224, 224, 3)"
            ]
          },
          "metadata": {
            "tags": []
          },
          "execution_count": 11
        }
      ]
    },
    {
      "cell_type": "code",
      "metadata": {
        "colab_type": "code",
        "id": "plpOxpPsJ9uO",
        "colab": {
          "base_uri": "https://localhost:8080/",
          "height": 50
        },
        "outputId": "dfd5754a-8ce2-4b4b-8b57-569cc54259a9"
      },
      "source": [
        "# one-hot encoding using keras' numpy-related utilities\n",
        "n_classes = 3\n",
        "print(\"Shape before one-hot encoding: \", y_train.shape)\n",
        "y_train = np_utils.to_categorical(y_train, n_classes)\n",
        "y_test = np_utils.to_categorical(y_test, n_classes)\n",
        "print(\"Shape after one-hot encoding: \", y_train.shape)"
      ],
      "execution_count": null,
      "outputs": [
        {
          "output_type": "stream",
          "text": [
            "Shape before one-hot encoding:  (8653,)\n",
            "Shape after one-hot encoding:  (8653, 3)\n"
          ],
          "name": "stdout"
        }
      ]
    },
    {
      "cell_type": "code",
      "metadata": {
        "id": "q4R5SmmINMQW",
        "colab_type": "code",
        "colab": {}
      },
      "source": [
        "# prepare data augmentation configuration\n",
        "from keras.preprocessing.image import ImageDataGenerator\n",
        "train_datagen = ImageDataGenerator(\n",
        "        #rescale=1./255,\n",
        "        shear_range=0.2,\n",
        "        zoom_range=0.2,\n",
        "        horizontal_flip=True)\n",
        "\n",
        "test_datagen = ImageDataGenerator()#rescale=1./255)"
      ],
      "execution_count": null,
      "outputs": []
    },
    {
      "cell_type": "code",
      "metadata": {
        "id": "Lrk5C0NGQX7n",
        "colab_type": "code",
        "colab": {}
      },
      "source": [
        "train_generator = train_datagen.flow(x=X_train, y=None, shuffle=False)\n",
        "test_generator = test_datagen.flow(x=X_test, y=None, shuffle=False)"
      ],
      "execution_count": null,
      "outputs": []
    },
    {
      "cell_type": "code",
      "metadata": {
        "id": "GkBrt_ocJqPz",
        "colab_type": "code",
        "colab": {}
      },
      "source": [
        "#Extracting features from VGG16\n",
        "model = VGG16(weights='imagenet', include_top=False)\n",
        "\n",
        "features_train = model.predict(train_generator)\n",
        "features_test = model.predict(test_generator)"
      ],
      "execution_count": null,
      "outputs": []
    },
    {
      "cell_type": "code",
      "metadata": {
        "id": "LdyUI-pYASzV",
        "colab_type": "code",
        "colab": {
          "base_uri": "https://localhost:8080/",
          "height": 33
        },
        "outputId": "1f02a803-30ba-4345-a865-b892fa791470"
      },
      "source": [
        "features_train.shape"
      ],
      "execution_count": null,
      "outputs": [
        {
          "output_type": "execute_result",
          "data": {
            "text/plain": [
              "(8653, 7, 7, 512)"
            ]
          },
          "metadata": {
            "tags": []
          },
          "execution_count": 16
        }
      ]
    },
    {
      "cell_type": "code",
      "metadata": {
        "id": "JXYHAeMIQUYk",
        "colab_type": "code",
        "colab": {}
      },
      "source": [
        "with open('VGG16_features_train.npy', 'wb') as f:\n",
        "    np.save(f, features_train)\n",
        "\n",
        "with open('VGG16_features_test.npy', 'wb') as f:\n",
        "    np.save(f, features_test)"
      ],
      "execution_count": null,
      "outputs": []
    },
    {
      "cell_type": "code",
      "metadata": {
        "id": "PIGhAZnORCFB",
        "colab_type": "code",
        "colab": {}
      },
      "source": [
        "# train_data = np.load('VGG16_features_train.npy')\n",
        "# test_data = np.load('VGG16_features_test.npy')"
      ],
      "execution_count": null,
      "outputs": []
    },
    {
      "cell_type": "code",
      "metadata": {
        "id": "c7hSxt6JRfja",
        "colab_type": "code",
        "colab": {}
      },
      "source": [
        "model = Sequential()\n",
        "model.add(Flatten(input_shape=features_train.shape[1:]))\n",
        "model.add(Dense(4096, activation='relu'))\n",
        "model.add(Dropout(0.4))\n",
        "model.add(Dense(1024, activation='relu'))\n",
        "model.add(Dropout(0.3))\n",
        "# output layer\n",
        "model.add(Dense(3, activation='softmax'))\n",
        "\n",
        "model.compile(optimizer='adam',\n",
        "              loss='categorical_crossentropy',\n",
        "              metrics=['accuracy'])"
      ],
      "execution_count": null,
      "outputs": []
    },
    {
      "cell_type": "code",
      "metadata": {
        "id": "XKBWhbycSfAf",
        "colab_type": "code",
        "colab": {}
      },
      "source": [
        "checkpoint_filepath = './checkpoint/extract_feature_topmodel.h5'\n",
        "model_checkpoint_callback = tf.keras.callbacks.ModelCheckpoint(\n",
        "    filepath=checkpoint_filepath,\n",
        "    save_weights_only=True,\n",
        "    monitor='val_accuracy',\n",
        "    mode='max',\n",
        "    save_best_only=True)"
      ],
      "execution_count": null,
      "outputs": []
    },
    {
      "cell_type": "code",
      "metadata": {
        "id": "GN4jRn67ShGc",
        "colab_type": "code",
        "colab": {
          "base_uri": "https://localhost:8080/",
          "height": 700
        },
        "outputId": "fade447b-c7e2-42c4-a8e0-e030661299b6"
      },
      "source": [
        "model.fit(features_train, y_train,\n",
        "          epochs=20,\n",
        "          batch_size=128,\n",
        "          validation_data=(features_test, y_test),\n",
        "          callbacks=[model_checkpoint_callback])"
      ],
      "execution_count": null,
      "outputs": [
        {
          "output_type": "stream",
          "text": [
            "Epoch 1/20\n",
            "68/68 [==============================] - 5s 74ms/step - loss: 13.8208 - accuracy: 0.4432 - val_loss: 0.9356 - val_accuracy: 0.5342\n",
            "Epoch 2/20\n",
            "68/68 [==============================] - 4s 58ms/step - loss: 0.8768 - accuracy: 0.6000 - val_loss: 0.7283 - val_accuracy: 0.6631\n",
            "Epoch 3/20\n",
            "68/68 [==============================] - 4s 55ms/step - loss: 0.7203 - accuracy: 0.6884 - val_loss: 0.6787 - val_accuracy: 0.7066\n",
            "Epoch 4/20\n",
            "68/68 [==============================] - 4s 64ms/step - loss: 0.6001 - accuracy: 0.7423 - val_loss: 0.6427 - val_accuracy: 0.7274\n",
            "Epoch 5/20\n",
            "68/68 [==============================] - 11s 163ms/step - loss: 0.4743 - accuracy: 0.8028 - val_loss: 0.6646 - val_accuracy: 0.7297\n",
            "Epoch 6/20\n",
            "68/68 [==============================] - 11s 164ms/step - loss: 0.3619 - accuracy: 0.8527 - val_loss: 0.6955 - val_accuracy: 0.7338\n",
            "Epoch 7/20\n",
            "68/68 [==============================] - 2s 25ms/step - loss: 0.2921 - accuracy: 0.8859 - val_loss: 0.8116 - val_accuracy: 0.7278\n",
            "Epoch 8/20\n",
            "68/68 [==============================] - 2s 24ms/step - loss: 0.2116 - accuracy: 0.9173 - val_loss: 0.8898 - val_accuracy: 0.7107\n",
            "Epoch 9/20\n",
            "68/68 [==============================] - 2s 24ms/step - loss: 0.1783 - accuracy: 0.9335 - val_loss: 1.1683 - val_accuracy: 0.7075\n",
            "Epoch 10/20\n",
            "68/68 [==============================] - 2s 25ms/step - loss: 0.1647 - accuracy: 0.9436 - val_loss: 1.0813 - val_accuracy: 0.7301\n",
            "Epoch 11/20\n",
            "68/68 [==============================] - 2s 26ms/step - loss: 0.1323 - accuracy: 0.9542 - val_loss: 1.1784 - val_accuracy: 0.7149\n",
            "Epoch 12/20\n",
            "68/68 [==============================] - 2s 26ms/step - loss: 0.1182 - accuracy: 0.9565 - val_loss: 1.2230 - val_accuracy: 0.7130\n",
            "Epoch 13/20\n",
            "68/68 [==============================] - 2s 26ms/step - loss: 0.1092 - accuracy: 0.9635 - val_loss: 1.4043 - val_accuracy: 0.7093\n",
            "Epoch 14/20\n",
            "68/68 [==============================] - 2s 26ms/step - loss: 0.1232 - accuracy: 0.9602 - val_loss: 1.3234 - val_accuracy: 0.7177\n",
            "Epoch 15/20\n",
            "68/68 [==============================] - 2s 25ms/step - loss: 0.0982 - accuracy: 0.9664 - val_loss: 1.3474 - val_accuracy: 0.7107\n",
            "Epoch 16/20\n",
            "68/68 [==============================] - 2s 25ms/step - loss: 0.0892 - accuracy: 0.9730 - val_loss: 1.4173 - val_accuracy: 0.7112\n",
            "Epoch 17/20\n",
            "68/68 [==============================] - 2s 24ms/step - loss: 0.0761 - accuracy: 0.9748 - val_loss: 1.4595 - val_accuracy: 0.7223\n",
            "Epoch 18/20\n",
            "68/68 [==============================] - 2s 25ms/step - loss: 0.0747 - accuracy: 0.9765 - val_loss: 1.6240 - val_accuracy: 0.7158\n",
            "Epoch 19/20\n",
            "68/68 [==============================] - 2s 25ms/step - loss: 0.0572 - accuracy: 0.9802 - val_loss: 1.5679 - val_accuracy: 0.7144\n",
            "Epoch 20/20\n",
            "68/68 [==============================] - 2s 25ms/step - loss: 0.0626 - accuracy: 0.9814 - val_loss: 1.4678 - val_accuracy: 0.7153\n"
          ],
          "name": "stdout"
        },
        {
          "output_type": "execute_result",
          "data": {
            "text/plain": [
              "<tensorflow.python.keras.callbacks.History at 0x7fbbee6221d0>"
            ]
          },
          "metadata": {
            "tags": []
          },
          "execution_count": 20
        }
      ]
    },
    {
      "cell_type": "code",
      "metadata": {
        "colab_type": "code",
        "id": "Td545xrQL1Le",
        "colab": {}
      },
      "source": [
        "#Load best weights\n",
        "checkpoint_filepath = './checkpoint/extract_feature_topmodel.h5'\n",
        "model.load_weights(checkpoint_filepath)"
      ],
      "execution_count": null,
      "outputs": []
    },
    {
      "cell_type": "code",
      "metadata": {
        "colab_type": "code",
        "id": "K-mgDoz5L1Ln",
        "colab": {
          "base_uri": "https://localhost:8080/",
          "height": 100
        },
        "outputId": "4ffb484d-6a4b-4592-d9a6-577f7343b98a"
      },
      "source": [
        "# Evaluate the model on the test data using `evaluate`\n",
        "print(\"Evaluate on test data\")\n",
        "results_test = model.evaluate(features_test, y_test, batch_size=128)\n",
        "print(\"test loss, test acc:\", results_test)\n",
        "\n",
        "# Generate predictions (probabilities -- the output of the last layer)\n",
        "# on new data using `predict`\n",
        "print(\"Generate predictions\")\n",
        "predictions = model.predict(features_test)\n",
        "print(\"predictions shape:\", predictions.shape)"
      ],
      "execution_count": null,
      "outputs": [
        {
          "output_type": "stream",
          "text": [
            "Evaluate on test data\n",
            "17/17 [==============================] - 0s 10ms/step - loss: 0.6955 - accuracy: 0.7338\n",
            "test loss, test acc: [0.6955344080924988, 0.733826220035553]\n",
            "Generate predictions\n",
            "predictions shape: (2164, 3)\n"
          ],
          "name": "stdout"
        }
      ]
    },
    {
      "cell_type": "code",
      "metadata": {
        "colab_type": "code",
        "id": "dCHzkW4bL1Ls",
        "colab": {
          "base_uri": "https://localhost:8080/",
          "height": 100
        },
        "outputId": "59d566c9-76bf-4e0f-bada-370597a35bc0"
      },
      "source": [
        "#importing confusion matrix\n",
        "from sklearn.metrics import confusion_matrix\n",
        "confusion = confusion_matrix(y_test.argmax(axis=1), predictions.argmax(axis=1))\n",
        "print('Confusion Matrix\\n')\n",
        "print(confusion)"
      ],
      "execution_count": null,
      "outputs": [
        {
          "output_type": "stream",
          "text": [
            "Confusion Matrix\n",
            "\n",
            "[[265  73 193]\n",
            " [ 36 841  99]\n",
            " [ 90  85 482]]\n"
          ],
          "name": "stdout"
        }
      ]
    },
    {
      "cell_type": "markdown",
      "metadata": {
        "id": "sU5tSeXYMU88",
        "colab_type": "text"
      },
      "source": [
        "# Fine-tuning VGG16"
      ]
    },
    {
      "cell_type": "code",
      "metadata": {
        "id": "6Wa0v2soOAbI",
        "colab_type": "code",
        "colab": {
          "base_uri": "https://localhost:8080/",
          "height": 67
        },
        "outputId": "ab72b2a2-e000-4994-9a03-2a4b1c990b2e"
      },
      "source": [
        "# build the VGG16 network\n",
        "vgg_model = VGG16(weights='imagenet', include_top=False, input_shape = (224,224,3))\n",
        "print('Model loaded.')"
      ],
      "execution_count": null,
      "outputs": [
        {
          "output_type": "stream",
          "text": [
            "Downloading data from https://storage.googleapis.com/tensorflow/keras-applications/vgg16/vgg16_weights_tf_dim_ordering_tf_kernels_notop.h5\n",
            "58892288/58889256 [==============================] - 0s 0us/step\n",
            "Model loaded.\n"
          ],
          "name": "stdout"
        }
      ]
    },
    {
      "cell_type": "code",
      "metadata": {
        "id": "zS4wJ3OhOCNY",
        "colab_type": "code",
        "colab": {}
      },
      "source": [
        "top_model = Sequential()\n",
        "top_model.add(Flatten(input_shape=vgg_model.output_shape[1:]))\n",
        "top_model.add(Dense(4096, activation='relu'))\n",
        "top_model.add(Dropout(0.4))\n",
        "top_model.add(Dense(1024, activation='relu'))\n",
        "top_model.add(Dropout(0.3))\n",
        "# output layer\n",
        "top_model.add(Dense(3, activation='softmax'))\n",
        "#Load previously fine-tuned weights\n",
        "top_model.load_weights('./checkpoint/extract_feature_topmodel.h5')"
      ],
      "execution_count": null,
      "outputs": []
    },
    {
      "cell_type": "code",
      "metadata": {
        "id": "KdY3JGjYOpJI",
        "colab_type": "code",
        "colab": {}
      },
      "source": [
        "# add the model on top of the convolutional base\n",
        "model = tf.keras.Model(inputs=vgg_model.input, outputs=top_model(vgg_model.output))"
      ],
      "execution_count": null,
      "outputs": []
    },
    {
      "cell_type": "code",
      "metadata": {
        "id": "-nYoU0q_wJH0",
        "colab_type": "code",
        "colab": {
          "base_uri": "https://localhost:8080/",
          "height": 33
        },
        "outputId": "1bf473a8-1ef9-4a78-afad-f83bb344f2af"
      },
      "source": [
        "len(model.layers)"
      ],
      "execution_count": null,
      "outputs": [
        {
          "output_type": "execute_result",
          "data": {
            "text/plain": [
              "20"
            ]
          },
          "metadata": {
            "tags": []
          },
          "execution_count": 17
        }
      ]
    },
    {
      "cell_type": "code",
      "metadata": {
        "id": "REgTHBifwSyO",
        "colab_type": "code",
        "colab": {
          "base_uri": "https://localhost:8080/",
          "height": 817
        },
        "outputId": "35d503e4-599b-46e3-8d8b-91475288cd39"
      },
      "source": [
        "model.summary()"
      ],
      "execution_count": null,
      "outputs": [
        {
          "output_type": "stream",
          "text": [
            "Model: \"functional_1\"\n",
            "_________________________________________________________________\n",
            "Layer (type)                 Output Shape              Param #   \n",
            "=================================================================\n",
            "input_1 (InputLayer)         [(None, 224, 224, 3)]     0         \n",
            "_________________________________________________________________\n",
            "block1_conv1 (Conv2D)        (None, 224, 224, 64)      1792      \n",
            "_________________________________________________________________\n",
            "block1_conv2 (Conv2D)        (None, 224, 224, 64)      36928     \n",
            "_________________________________________________________________\n",
            "block1_pool (MaxPooling2D)   (None, 112, 112, 64)      0         \n",
            "_________________________________________________________________\n",
            "block2_conv1 (Conv2D)        (None, 112, 112, 128)     73856     \n",
            "_________________________________________________________________\n",
            "block2_conv2 (Conv2D)        (None, 112, 112, 128)     147584    \n",
            "_________________________________________________________________\n",
            "block2_pool (MaxPooling2D)   (None, 56, 56, 128)       0         \n",
            "_________________________________________________________________\n",
            "block3_conv1 (Conv2D)        (None, 56, 56, 256)       295168    \n",
            "_________________________________________________________________\n",
            "block3_conv2 (Conv2D)        (None, 56, 56, 256)       590080    \n",
            "_________________________________________________________________\n",
            "block3_conv3 (Conv2D)        (None, 56, 56, 256)       590080    \n",
            "_________________________________________________________________\n",
            "block3_pool (MaxPooling2D)   (None, 28, 28, 256)       0         \n",
            "_________________________________________________________________\n",
            "block4_conv1 (Conv2D)        (None, 28, 28, 512)       1180160   \n",
            "_________________________________________________________________\n",
            "block4_conv2 (Conv2D)        (None, 28, 28, 512)       2359808   \n",
            "_________________________________________________________________\n",
            "block4_conv3 (Conv2D)        (None, 28, 28, 512)       2359808   \n",
            "_________________________________________________________________\n",
            "block4_pool (MaxPooling2D)   (None, 14, 14, 512)       0         \n",
            "_________________________________________________________________\n",
            "block5_conv1 (Conv2D)        (None, 14, 14, 512)       2359808   \n",
            "_________________________________________________________________\n",
            "block5_conv2 (Conv2D)        (None, 14, 14, 512)       2359808   \n",
            "_________________________________________________________________\n",
            "block5_conv3 (Conv2D)        (None, 14, 14, 512)       2359808   \n",
            "_________________________________________________________________\n",
            "block5_pool (MaxPooling2D)   (None, 7, 7, 512)         0         \n",
            "_________________________________________________________________\n",
            "sequential (Sequential)      (None, 3)                 106962947 \n",
            "=================================================================\n",
            "Total params: 121,677,635\n",
            "Trainable params: 121,677,635\n",
            "Non-trainable params: 0\n",
            "_________________________________________________________________\n"
          ],
          "name": "stdout"
        }
      ]
    },
    {
      "cell_type": "code",
      "metadata": {
        "id": "ZxGAMKYLRee-",
        "colab_type": "code",
        "colab": {}
      },
      "source": [
        "# set the first 25 layers (up to the last conv block)\n",
        "# to non-trainable (weights will not be updated)\n",
        "for layer in model.layers[:15]:\n",
        "    layer.trainable = False\n",
        "\n",
        "# for layer in model.layers[:]:\n",
        "#     print(layer)\n",
        "#     print(layer.trainable)"
      ],
      "execution_count": null,
      "outputs": []
    },
    {
      "cell_type": "code",
      "metadata": {
        "id": "sjqkPNJgVwkU",
        "colab_type": "code",
        "colab": {}
      },
      "source": [
        "# compile the model with a SGD/momentum optimizer\n",
        "# and a very slow learning rate.\n",
        "optimizer = tf.keras.optimizers.SGD(lr=1e-4, momentum=0.9)#Adam(learning_rate=1e-4)#\n",
        "model.compile(loss='categorical_crossentropy',\n",
        "              optimizer=optimizer,\n",
        "              metrics=['accuracy'])"
      ],
      "execution_count": null,
      "outputs": []
    },
    {
      "cell_type": "code",
      "metadata": {
        "id": "p65PlUZ1V7dX",
        "colab_type": "code",
        "colab": {}
      },
      "source": [
        "train_generator = train_datagen.flow(X_train, y_train, batch_size=32)\n",
        "test_generator = test_datagen.flow(X_test, y_test, batch_size=32)"
      ],
      "execution_count": null,
      "outputs": []
    },
    {
      "cell_type": "code",
      "metadata": {
        "colab_type": "code",
        "id": "6iglydIXXYXT",
        "colab": {}
      },
      "source": [
        "checkpoint_filepath = './checkpoint/vgg16_finetune.h5'\n",
        "model_checkpoint_callback = tf.keras.callbacks.ModelCheckpoint(\n",
        "    filepath=checkpoint_filepath,\n",
        "    save_weights_only=True,\n",
        "    monitor='val_accuracy',\n",
        "    mode='max',\n",
        "    save_best_only=True)"
      ],
      "execution_count": null,
      "outputs": []
    },
    {
      "cell_type": "code",
      "metadata": {
        "id": "x3Db6PJufBe1",
        "colab_type": "code",
        "colab": {}
      },
      "source": [
        "import matplotlib.pyplot as plt\n",
        "\n",
        "\n",
        "def plot_hist(hist):\n",
        "    plt.plot(hist.history[\"accuracy\"])\n",
        "    plt.plot(hist.history[\"val_accuracy\"])\n",
        "    plt.title(\"model accuracy\")\n",
        "    plt.ylabel(\"accuracy\")\n",
        "    plt.xlabel(\"epoch\")\n",
        "    plt.legend([\"train\", \"validation\"], loc=\"upper left\")\n",
        "    plt.show()"
      ],
      "execution_count": null,
      "outputs": []
    },
    {
      "cell_type": "code",
      "metadata": {
        "colab_type": "code",
        "id": "0hqcrwJbXYXa",
        "colab": {
          "base_uri": "https://localhost:8080/",
          "height": 961
        },
        "outputId": "dcfea63d-e3a0-4ff5-fa56-97419c4dfa50"
      },
      "source": [
        "hist = model.fit(train_generator,\n",
        "          epochs=20,\n",
        "          validation_data=test_generator,\n",
        "          callbacks=[model_checkpoint_callback])\n",
        "plot_hist(hist)"
      ],
      "execution_count": null,
      "outputs": [
        {
          "output_type": "stream",
          "text": [
            "Epoch 1/20\n",
            "271/271 [==============================] - 108s 399ms/step - loss: 0.6047 - accuracy: 0.7424 - val_loss: 0.4790 - val_accuracy: 0.8013\n",
            "Epoch 2/20\n",
            "271/271 [==============================] - 106s 392ms/step - loss: 0.5602 - accuracy: 0.7657 - val_loss: 0.4513 - val_accuracy: 0.8212\n",
            "Epoch 3/20\n",
            "271/271 [==============================] - 108s 397ms/step - loss: 0.5149 - accuracy: 0.7881 - val_loss: 0.4499 - val_accuracy: 0.8235\n",
            "Epoch 4/20\n",
            "271/271 [==============================] - 104s 385ms/step - loss: 0.4891 - accuracy: 0.7972 - val_loss: 0.4372 - val_accuracy: 0.8207\n",
            "Epoch 5/20\n",
            "271/271 [==============================] - 103s 381ms/step - loss: 0.4719 - accuracy: 0.8043 - val_loss: 0.4915 - val_accuracy: 0.8105\n",
            "Epoch 6/20\n",
            "271/271 [==============================] - 106s 392ms/step - loss: 0.4534 - accuracy: 0.8137 - val_loss: 0.4221 - val_accuracy: 0.8304\n",
            "Epoch 7/20\n",
            "271/271 [==============================] - 104s 384ms/step - loss: 0.4410 - accuracy: 0.8131 - val_loss: 0.4322 - val_accuracy: 0.8253\n",
            "Epoch 8/20\n",
            "271/271 [==============================] - 103s 380ms/step - loss: 0.4062 - accuracy: 0.8323 - val_loss: 0.4346 - val_accuracy: 0.8239\n",
            "Epoch 9/20\n",
            "271/271 [==============================] - 103s 381ms/step - loss: 0.4013 - accuracy: 0.8369 - val_loss: 0.4378 - val_accuracy: 0.8253\n",
            "Epoch 10/20\n",
            "271/271 [==============================] - 106s 393ms/step - loss: 0.3776 - accuracy: 0.8478 - val_loss: 0.4266 - val_accuracy: 0.8318\n",
            "Epoch 11/20\n",
            "271/271 [==============================] - 104s 384ms/step - loss: 0.3628 - accuracy: 0.8484 - val_loss: 0.4583 - val_accuracy: 0.8304\n",
            "Epoch 12/20\n",
            "271/271 [==============================] - 103s 382ms/step - loss: 0.3509 - accuracy: 0.8567 - val_loss: 0.4625 - val_accuracy: 0.8239\n",
            "Epoch 13/20\n",
            "271/271 [==============================] - 104s 383ms/step - loss: 0.3381 - accuracy: 0.8641 - val_loss: 0.4376 - val_accuracy: 0.8290\n",
            "Epoch 14/20\n",
            "271/271 [==============================] - 103s 380ms/step - loss: 0.3169 - accuracy: 0.8708 - val_loss: 0.4683 - val_accuracy: 0.8290\n",
            "Epoch 15/20\n",
            "271/271 [==============================] - 103s 379ms/step - loss: 0.3045 - accuracy: 0.8782 - val_loss: 0.4486 - val_accuracy: 0.8299\n",
            "Epoch 16/20\n",
            "271/271 [==============================] - 103s 381ms/step - loss: 0.2980 - accuracy: 0.8793 - val_loss: 0.4694 - val_accuracy: 0.8276\n",
            "Epoch 17/20\n",
            "271/271 [==============================] - 103s 380ms/step - loss: 0.2846 - accuracy: 0.8864 - val_loss: 0.5001 - val_accuracy: 0.8276\n",
            "Epoch 18/20\n",
            "271/271 [==============================] - 103s 379ms/step - loss: 0.2801 - accuracy: 0.8863 - val_loss: 0.4505 - val_accuracy: 0.8299\n",
            "Epoch 19/20\n",
            "271/271 [==============================] - 103s 380ms/step - loss: 0.2563 - accuracy: 0.8974 - val_loss: 0.4901 - val_accuracy: 0.8170\n",
            "Epoch 20/20\n",
            "271/271 [==============================] - 103s 379ms/step - loss: 0.2600 - accuracy: 0.9008 - val_loss: 0.4903 - val_accuracy: 0.8253\n"
          ],
          "name": "stdout"
        },
        {
          "output_type": "display_data",
          "data": {
            "image/png": "[encoded data removed]",
            "text/plain": [
              "<Figure size 432x288 with 1 Axes>"
            ]
          },
          "metadata": {
            "tags": [],
            "needs_background": "light"
          }
        }
      ]
    },
    {
      "cell_type": "code",
      "metadata": {
        "colab_type": "code",
        "id": "IyEF5p09ArqD",
        "colab": {}
      },
      "source": [
        "#Load best weights\n",
        "checkpoint_filepath = './checkpoint/vgg16_finetune.h5'\n",
        "model.load_weights(checkpoint_filepath)"
      ],
      "execution_count": null,
      "outputs": []
    },
    {
      "cell_type": "code",
      "metadata": {
        "colab_type": "code",
        "id": "hRLkGJ5TArqL",
        "colab": {
          "base_uri": "https://localhost:8080/",
          "height": 100
        },
        "outputId": "8e116450-67c1-4b5b-c2cc-9e8f564faf77"
      },
      "source": [
        "# Evaluate the model on the test data using `evaluate`\n",
        "print(\"Evaluate on test data\")\n",
        "results_test = model.evaluate(X_test, y_test, batch_size=128)\n",
        "print(\"test loss, test acc:\", results_test)\n",
        "\n",
        "# Generate predictions (probabilities -- the output of the last layer)\n",
        "# on new data using `predict`\n",
        "print(\"Generate predictions\")\n",
        "predictions = model.predict(X_test)\n",
        "print(\"predictions shape:\", predictions.shape)"
      ],
      "execution_count": null,
      "outputs": [
        {
          "output_type": "stream",
          "text": [
            "Evaluate on test data\n",
            "17/17 [==============================] - 11s 656ms/step - loss: 0.4266 - accuracy: 0.8318\n",
            "test loss, test acc: [0.42664363980293274, 0.831792950630188]\n",
            "Generate predictions\n",
            "predictions shape: (2164, 3)\n"
          ],
          "name": "stdout"
        }
      ]
    },
    {
      "cell_type": "code",
      "metadata": {
        "colab_type": "code",
        "id": "6D_biDsvArqR",
        "colab": {
          "base_uri": "https://localhost:8080/",
          "height": 100
        },
        "outputId": "65c3cd59-105b-46ed-d2f1-f2b51bcfc2e0"
      },
      "source": [
        "#importing confusion matrix\n",
        "from sklearn.metrics import confusion_matrix\n",
        "confusion = confusion_matrix(y_test.argmax(axis=1), predictions.argmax(axis=1))\n",
        "print('Confusion Matrix\\n')\n",
        "print(confusion)"
      ],
      "execution_count": null,
      "outputs": [
        {
          "output_type": "stream",
          "text": [
            "Confusion Matrix\n",
            "\n",
            "[[309  35 186]\n",
            " [ 21 897  47]\n",
            " [ 49  26 594]]\n"
          ],
          "name": "stdout"
        }
      ]
    },
    {
      "cell_type": "code",
      "metadata": {
        "id": "Pd4jTto0Kqjb",
        "colab_type": "code",
        "colab": {
          "base_uri": "https://localhost:8080/",
          "height": 33
        },
        "outputId": "5752c667-c3ed-44ef-898c-c61a95cd3217"
      },
      "source": [
        "np.sum(confusion, axis=0) #Predicted"
      ],
      "execution_count": null,
      "outputs": [
        {
          "output_type": "execute_result",
          "data": {
            "text/plain": [
              "array([379, 958, 827])"
            ]
          },
          "metadata": {
            "tags": []
          },
          "execution_count": 36
        }
      ]
    },
    {
      "cell_type": "code",
      "metadata": {
        "id": "232GuEl7LIja",
        "colab_type": "code",
        "colab": {
          "base_uri": "https://localhost:8080/",
          "height": 33
        },
        "outputId": "8fa7fca6-41db-4087-bab7-b96db91f2467"
      },
      "source": [
        "np.sum(confusion, axis=1) #Actual"
      ],
      "execution_count": null,
      "outputs": [
        {
          "output_type": "execute_result",
          "data": {
            "text/plain": [
              "array([530, 965, 669])"
            ]
          },
          "metadata": {
            "tags": []
          },
          "execution_count": 37
        }
      ]
    },
    {
      "cell_type": "code",
      "metadata": {
        "id": "Q_e7DZ7-IVUS",
        "colab_type": "code",
        "colab": {}
      },
      "source": [
        "encoder = LabelEncoder()\n",
        "encoder.classes_ = np.load('./checkpoint/LabelEncoder.npy', allow_pickle=True)"
      ],
      "execution_count": 7,
      "outputs": []
    },
    {
      "cell_type": "code",
      "metadata": {
        "id": "NpBl0hkiEj8N",
        "colab_type": "code",
        "colab": {}
      },
      "source": [
        "pred_label = encoder.inverse_transform(predictions.argmax(axis=1))"
      ],
      "execution_count": null,
      "outputs": []
    },
    {
      "cell_type": "code",
      "metadata": {
        "id": "uDdQDB3EJA5M",
        "colab_type": "code",
        "colab": {
          "base_uri": "https://localhost:8080/",
          "height": 33
        },
        "outputId": "e02f8079-a58d-49b5-f9c6-b4fee1c762c2"
      },
      "source": [
        "encoder.classes_"
      ],
      "execution_count": null,
      "outputs": [
        {
          "output_type": "execute_result",
          "data": {
            "text/plain": [
              "array(['Fear', 'Happy', 'Sad'], dtype=object)"
            ]
          },
          "metadata": {
            "tags": []
          },
          "execution_count": 38
        }
      ]
    },
    {
      "cell_type": "code",
      "metadata": {
        "id": "Fjy6sMlVLX_x",
        "colab_type": "code",
        "colab": {
          "base_uri": "https://localhost:8080/",
          "height": 33
        },
        "outputId": "a8efa65c-14ce-4df5-a2f6-54e736843941"
      },
      "source": [
        "encoder.inverse_transform([0])"
      ],
      "execution_count": 8,
      "outputs": [
        {
          "output_type": "execute_result",
          "data": {
            "text/plain": [
              "array(['Fear'], dtype=object)"
            ]
          },
          "metadata": {
            "tags": []
          },
          "execution_count": 8
        }
      ]
    }
  ]
}